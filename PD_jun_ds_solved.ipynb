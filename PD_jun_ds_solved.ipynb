{
 "cells": [
  {
   "cell_type": "markdown",
   "metadata": {
    "id": "qb9mY_HmN913"
   },
   "source": [
    "# Домашнее задание для Junior DS по разработке PD модели"
   ]
  },
  {
   "cell_type": "markdown",
   "metadata": {
    "id": "NbqnB_V8N915"
   },
   "source": [
    "<b>Задание:</b> Необходиом разработать модель предсказания дефолта. Даны финансовые данные 32 395 компаний (выручка, активы, пассивы и т.д). Результат будет оцениваться на скрытой выборке из 200 компаний по метрике качества accuracy_score\n",
    "\n",
    "<b>Цель задания</b> научиться / показать знания в разработке моделей оценки риска - probability of default. Задание приближено к реальному, данные синтетические. Лидерборд для оценки собственного решения и геймификации процесса обучения. Первое место в лидерборде не явлется целью. Цель - правильно разарботанная модель, удовлетворяющая требованиям банковской системы. В случае возникновения вопросов, сотрудники блока Риски готовы проконсультировать и дать обратную связь на модель (телеграм чат).\n",
    "\n",
    "<b>Метрика качества</b> accuracy_score вычисляется, как ( True positive + True negative ) / Total. Если сабмит-файл, не правильного формата или неверное количество строк, метрика будет = 0."
   ]
  },
  {
   "cell_type": "markdown",
   "metadata": {
    "id": "EJ9_SMqyN916"
   },
   "source": [
    "### Импортируем библиотеки"
   ]
  },
  {
   "cell_type": "code",
   "execution_count": 1,
   "metadata": {
    "id": "Vo4g-4Y5N917"
   },
   "outputs": [],
   "source": [
    "import pandas as pd\n",
    "import numpy as np\n",
    "from sklearn.metrics import f1_score\n",
    "from matplotlib import pyplot as plt\n",
    "import seaborn as sns\n",
    "from sklearn.preprocessing import StandardScaler\n",
    "from sklearn.model_selection import cross_val_score\n",
    "from sklearn.model_selection import train_test_split\n",
    "from sklearn.linear_model import LogisticRegression\n",
    "from sklearn.metrics import accuracy_score\n",
    "\n",
    "from catboost import CatBoostClassifier\n",
    "from xgboost import XGBClassifier\n",
    "from sklearn.preprocessing import StandardScaler\n",
    "from sklearn.experimental import enable_iterative_imputer\n",
    "from sklearn.impute import IterativeImputer\n",
    "from sklearn.linear_model import LinearRegression\n",
    "from sklearn.ensemble import RandomForestClassifier\n",
    "from sklearn.preprocessing import PowerTransformer\n",
    "from sklearn.neighbors import KNeighborsClassifier\n",
    "\n",
    "import warnings\n",
    "warnings.filterwarnings(\"ignore\")"
   ]
  },
  {
   "cell_type": "markdown",
   "metadata": {
    "id": "4k8ndBMHN92A"
   },
   "source": [
    "### Подгружаем данные"
   ]
  },
  {
   "cell_type": "code",
   "execution_count": 2,
   "metadata": {
    "id": "XwbL4T6rN92G"
   },
   "outputs": [],
   "source": [
    "train_df = pd.read_csv('PD-data-train.csv', sep=';')\n",
    "test_df = pd.read_csv('PD-data-test.csv', sep=';')\n",
    "desc_df = pd.read_csv('PD-data-desc.csv', sep=';')"
   ]
  },
  {
   "cell_type": "markdown",
   "metadata": {
    "id": "PQgDXmx-QPs_"
   },
   "source": [
    "Описание данных"
   ]
  },
  {
   "cell_type": "code",
   "execution_count": 3,
   "metadata": {
    "colab": {
     "base_uri": "https://localhost:8080/",
     "height": 204
    },
    "id": "15_jhk2bQPs_",
    "outputId": "7f57ef23-5ae5-43c7-9248-1abf1206409d"
   },
   "outputs": [
    {
     "data": {
      "text/html": [
       "<div>\n",
       "<style scoped>\n",
       "    .dataframe tbody tr th:only-of-type {\n",
       "        vertical-align: middle;\n",
       "    }\n",
       "\n",
       "    .dataframe tbody tr th {\n",
       "        vertical-align: top;\n",
       "    }\n",
       "\n",
       "    .dataframe thead th {\n",
       "        text-align: right;\n",
       "    }\n",
       "</style>\n",
       "<table border=\"1\" class=\"dataframe\">\n",
       "  <thead>\n",
       "    <tr style=\"text-align: right;\">\n",
       "      <th></th>\n",
       "      <th>field</th>\n",
       "      <th>desc_eng</th>\n",
       "      <th>desc_rus</th>\n",
       "    </tr>\n",
       "  </thead>\n",
       "  <tbody>\n",
       "    <tr>\n",
       "      <th>0</th>\n",
       "      <td>ar_revenue</td>\n",
       "      <td>Sales revenue (at the end of the last year)</td>\n",
       "      <td>Выручка от реализации (на конец последнего года)</td>\n",
       "    </tr>\n",
       "    <tr>\n",
       "      <th>1</th>\n",
       "      <td>ar_total_expenses</td>\n",
       "      <td>Total expenses for the last year</td>\n",
       "      <td>Общие расходы за последний год</td>\n",
       "    </tr>\n",
       "    <tr>\n",
       "      <th>2</th>\n",
       "      <td>ar_sale_cost</td>\n",
       "      <td>Cost of sales (at the end of the last year)</td>\n",
       "      <td>Себестоимость продаж (на конец последнего года)</td>\n",
       "    </tr>\n",
       "    <tr>\n",
       "      <th>3</th>\n",
       "      <td>ar_selling_expenses</td>\n",
       "      <td>Selling expenses (at the end of the last year)</td>\n",
       "      <td>Коммерческие расходы (на конец последнего года)</td>\n",
       "    </tr>\n",
       "    <tr>\n",
       "      <th>4</th>\n",
       "      <td>ar_management_expenses</td>\n",
       "      <td>Administrative expenses (at the end of the las...</td>\n",
       "      <td>Управленческие расходы (на конец последнего года)</td>\n",
       "    </tr>\n",
       "    <tr>\n",
       "      <th>5</th>\n",
       "      <td>ar_sale_profit</td>\n",
       "      <td>Profit from sales (at the end of the last year)</td>\n",
       "      <td>Прибыль от реализации (на конец последнего года)</td>\n",
       "    </tr>\n",
       "    <tr>\n",
       "      <th>6</th>\n",
       "      <td>ar_balance_of_rvns_and_expns</td>\n",
       "      <td>Balance of income and expenses (at the end of ...</td>\n",
       "      <td>Баланс доходов и расходов (на конец последнего...</td>\n",
       "    </tr>\n",
       "    <tr>\n",
       "      <th>7</th>\n",
       "      <td>ar_profit_before_tax</td>\n",
       "      <td>Gross Profit (end of last year)</td>\n",
       "      <td>Валовая прибыль (на конец последнего года)</td>\n",
       "    </tr>\n",
       "    <tr>\n",
       "      <th>8</th>\n",
       "      <td>ar_taxes</td>\n",
       "      <td>Current income tax (at the end of the last year)</td>\n",
       "      <td>Текущий на налог на прибыль (на конец последне...</td>\n",
       "    </tr>\n",
       "    <tr>\n",
       "      <th>9</th>\n",
       "      <td>ar_other_profit_and_losses</td>\n",
       "      <td>Other income and expenses (at the end of the l...</td>\n",
       "      <td>Прочие доходы и расходы (на конец последнего г...</td>\n",
       "    </tr>\n",
       "    <tr>\n",
       "      <th>10</th>\n",
       "      <td>ar_net_profit</td>\n",
       "      <td>Net profit (at the end of the last year)</td>\n",
       "      <td>Чистая прибыль (на конец последнего года)</td>\n",
       "    </tr>\n",
       "    <tr>\n",
       "      <th>11</th>\n",
       "      <td>ab_immobilized_assets</td>\n",
       "      <td>Fixed assets for the last year</td>\n",
       "      <td>Основные внеоборотные средства за последний год</td>\n",
       "    </tr>\n",
       "    <tr>\n",
       "      <th>12</th>\n",
       "      <td>ab_mobile_current_assets</td>\n",
       "      <td>Current assets (at the end of the last year)</td>\n",
       "      <td>Оборотные активы (на конец последнего года)</td>\n",
       "    </tr>\n",
       "    <tr>\n",
       "      <th>13</th>\n",
       "      <td>ab_inventory</td>\n",
       "      <td>Stocks (at the end of the last year)</td>\n",
       "      <td>Запасы (на конец последнего года)</td>\n",
       "    </tr>\n",
       "    <tr>\n",
       "      <th>14</th>\n",
       "      <td>ab_accounts_receivable</td>\n",
       "      <td>Accounts receivable (at the end of the last year)</td>\n",
       "      <td>Дебиторская задолженность (на конец последнего...</td>\n",
       "    </tr>\n",
       "    <tr>\n",
       "      <th>15</th>\n",
       "      <td>ab_other_current_assets</td>\n",
       "      <td>Other current assets (at the end of the last y...</td>\n",
       "      <td>Прочие оборотные активы (на конец последнего г...</td>\n",
       "    </tr>\n",
       "    <tr>\n",
       "      <th>16</th>\n",
       "      <td>ab_cash_and_securities</td>\n",
       "      <td>Cash and cash equivalents (at the end of the l...</td>\n",
       "      <td>Денежные средства и денежные эквиваленты (на к...</td>\n",
       "    </tr>\n",
       "    <tr>\n",
       "      <th>17</th>\n",
       "      <td>ab_losses</td>\n",
       "      <td>Retained earnings (at the end of the last year)</td>\n",
       "      <td>Нераспределенная прибыль (на конец последнего ...</td>\n",
       "    </tr>\n",
       "    <tr>\n",
       "      <th>18</th>\n",
       "      <td>ab_own_capital</td>\n",
       "      <td>Capital (at the end of the last year)</td>\n",
       "      <td>Капитал (на конец последнего года)</td>\n",
       "    </tr>\n",
       "    <tr>\n",
       "      <th>19</th>\n",
       "      <td>ab_borrowed_capital</td>\n",
       "      <td>Total debt (end of last year)</td>\n",
       "      <td>Общие долговые обязательства (на конец последн...</td>\n",
       "    </tr>\n",
       "    <tr>\n",
       "      <th>20</th>\n",
       "      <td>ab_long_term_liabilities</td>\n",
       "      <td>Long-term liabilities (at the end of the last ...</td>\n",
       "      <td>Долгосрочный обязательства (на конец последнег...</td>\n",
       "    </tr>\n",
       "    <tr>\n",
       "      <th>21</th>\n",
       "      <td>ab_short_term_borrowing</td>\n",
       "      <td>Short-term borrowed funds (at the end of the l...</td>\n",
       "      <td>Краткосрочные заемные средства (на конец после...</td>\n",
       "    </tr>\n",
       "    <tr>\n",
       "      <th>22</th>\n",
       "      <td>ab_accounts_payable</td>\n",
       "      <td>Accounts payable for the last year</td>\n",
       "      <td>Кредиторская задодженность за последний год</td>\n",
       "    </tr>\n",
       "    <tr>\n",
       "      <th>23</th>\n",
       "      <td>ab_other_borrowings</td>\n",
       "      <td>Other liabilities (at the end of the last year)</td>\n",
       "      <td>Прочие обязательства (на конец последнего года)</td>\n",
       "    </tr>\n",
       "    <tr>\n",
       "      <th>24</th>\n",
       "      <td>bus_age</td>\n",
       "      <td>Business duration</td>\n",
       "      <td>Срок ведения бизнеса</td>\n",
       "    </tr>\n",
       "    <tr>\n",
       "      <th>25</th>\n",
       "      <td>ogrn_age</td>\n",
       "      <td>Term from the moment the PSRN was assigned</td>\n",
       "      <td>Срок с момента присваивания ОГРН</td>\n",
       "    </tr>\n",
       "    <tr>\n",
       "      <th>26</th>\n",
       "      <td>adr_actual_age</td>\n",
       "      <td>Term from the date of registration of the lega...</td>\n",
       "      <td>Срок с момента регистрации юридического адреса</td>\n",
       "    </tr>\n",
       "    <tr>\n",
       "      <th>27</th>\n",
       "      <td>head_actual_age</td>\n",
       "      <td>Term since the appointment of the head</td>\n",
       "      <td>Срок с момента назначения руководителя</td>\n",
       "    </tr>\n",
       "    <tr>\n",
       "      <th>28</th>\n",
       "      <td>cap_actual_age</td>\n",
       "      <td>Term from the moment of capital installation</td>\n",
       "      <td>Срок с момента установки капитала</td>\n",
       "    </tr>\n",
       "    <tr>\n",
       "      <th>29</th>\n",
       "      <td>ul_staff_range</td>\n",
       "      <td>The number of employees</td>\n",
       "      <td>Количество сотрудников</td>\n",
       "    </tr>\n",
       "    <tr>\n",
       "      <th>30</th>\n",
       "      <td>ul_capital_sum</td>\n",
       "      <td>Capital amount</td>\n",
       "      <td>Величина капитала</td>\n",
       "    </tr>\n",
       "    <tr>\n",
       "      <th>31</th>\n",
       "      <td>ul_founders_cnt</td>\n",
       "      <td>Number of shareholders</td>\n",
       "      <td>Количество акционеров</td>\n",
       "    </tr>\n",
       "    <tr>\n",
       "      <th>32</th>\n",
       "      <td>ul_branch_cnt</td>\n",
       "      <td>Number of branches</td>\n",
       "      <td>Количество филиалов</td>\n",
       "    </tr>\n",
       "    <tr>\n",
       "      <th>33</th>\n",
       "      <td>ul_strategic_flg</td>\n",
       "      <td>A company of strategic importance</td>\n",
       "      <td>Компания стратегического значения</td>\n",
       "    </tr>\n",
       "    <tr>\n",
       "      <th>34</th>\n",
       "      <td>ul_systematizing_flg</td>\n",
       "      <td>Backbone company</td>\n",
       "      <td>Системообразующая компания</td>\n",
       "    </tr>\n",
       "  </tbody>\n",
       "</table>\n",
       "</div>"
      ],
      "text/plain": [
       "                           field  \\\n",
       "0                     ar_revenue   \n",
       "1              ar_total_expenses   \n",
       "2                   ar_sale_cost   \n",
       "3            ar_selling_expenses   \n",
       "4         ar_management_expenses   \n",
       "5                 ar_sale_profit   \n",
       "6   ar_balance_of_rvns_and_expns   \n",
       "7           ar_profit_before_tax   \n",
       "8                       ar_taxes   \n",
       "9     ar_other_profit_and_losses   \n",
       "10                 ar_net_profit   \n",
       "11         ab_immobilized_assets   \n",
       "12      ab_mobile_current_assets   \n",
       "13                  ab_inventory   \n",
       "14        ab_accounts_receivable   \n",
       "15       ab_other_current_assets   \n",
       "16        ab_cash_and_securities   \n",
       "17                     ab_losses   \n",
       "18                ab_own_capital   \n",
       "19           ab_borrowed_capital   \n",
       "20      ab_long_term_liabilities   \n",
       "21       ab_short_term_borrowing   \n",
       "22           ab_accounts_payable   \n",
       "23           ab_other_borrowings   \n",
       "24                       bus_age   \n",
       "25                      ogrn_age   \n",
       "26                adr_actual_age   \n",
       "27               head_actual_age   \n",
       "28                cap_actual_age   \n",
       "29                ul_staff_range   \n",
       "30                ul_capital_sum   \n",
       "31               ul_founders_cnt   \n",
       "32                 ul_branch_cnt   \n",
       "33              ul_strategic_flg   \n",
       "34          ul_systematizing_flg   \n",
       "\n",
       "                                             desc_eng  \\\n",
       "0         Sales revenue (at the end of the last year)   \n",
       "1                    Total expenses for the last year   \n",
       "2         Cost of sales (at the end of the last year)   \n",
       "3      Selling expenses (at the end of the last year)   \n",
       "4   Administrative expenses (at the end of the las...   \n",
       "5     Profit from sales (at the end of the last year)   \n",
       "6   Balance of income and expenses (at the end of ...   \n",
       "7                     Gross Profit (end of last year)   \n",
       "8    Current income tax (at the end of the last year)   \n",
       "9   Other income and expenses (at the end of the l...   \n",
       "10           Net profit (at the end of the last year)   \n",
       "11                     Fixed assets for the last year   \n",
       "12       Current assets (at the end of the last year)   \n",
       "13               Stocks (at the end of the last year)   \n",
       "14  Accounts receivable (at the end of the last year)   \n",
       "15  Other current assets (at the end of the last y...   \n",
       "16  Cash and cash equivalents (at the end of the l...   \n",
       "17    Retained earnings (at the end of the last year)   \n",
       "18              Capital (at the end of the last year)   \n",
       "19                      Total debt (end of last year)   \n",
       "20  Long-term liabilities (at the end of the last ...   \n",
       "21  Short-term borrowed funds (at the end of the l...   \n",
       "22                 Accounts payable for the last year   \n",
       "23    Other liabilities (at the end of the last year)   \n",
       "24                                  Business duration   \n",
       "25         Term from the moment the PSRN was assigned   \n",
       "26  Term from the date of registration of the lega...   \n",
       "27             Term since the appointment of the head   \n",
       "28       Term from the moment of capital installation   \n",
       "29                            The number of employees   \n",
       "30                                     Capital amount   \n",
       "31                             Number of shareholders   \n",
       "32                                 Number of branches   \n",
       "33                  A company of strategic importance   \n",
       "34                                   Backbone company   \n",
       "\n",
       "                                             desc_rus  \n",
       "0    Выручка от реализации (на конец последнего года)  \n",
       "1                      Общие расходы за последний год  \n",
       "2     Себестоимость продаж (на конец последнего года)  \n",
       "3     Коммерческие расходы (на конец последнего года)  \n",
       "4   Управленческие расходы (на конец последнего года)  \n",
       "5    Прибыль от реализации (на конец последнего года)  \n",
       "6   Баланс доходов и расходов (на конец последнего...  \n",
       "7          Валовая прибыль (на конец последнего года)  \n",
       "8   Текущий на налог на прибыль (на конец последне...  \n",
       "9   Прочие доходы и расходы (на конец последнего г...  \n",
       "10          Чистая прибыль (на конец последнего года)  \n",
       "11    Основные внеоборотные средства за последний год  \n",
       "12        Оборотные активы (на конец последнего года)  \n",
       "13                  Запасы (на конец последнего года)  \n",
       "14  Дебиторская задолженность (на конец последнего...  \n",
       "15  Прочие оборотные активы (на конец последнего г...  \n",
       "16  Денежные средства и денежные эквиваленты (на к...  \n",
       "17  Нераспределенная прибыль (на конец последнего ...  \n",
       "18                 Капитал (на конец последнего года)  \n",
       "19  Общие долговые обязательства (на конец последн...  \n",
       "20  Долгосрочный обязательства (на конец последнег...  \n",
       "21  Краткосрочные заемные средства (на конец после...  \n",
       "22        Кредиторская задодженность за последний год  \n",
       "23    Прочие обязательства (на конец последнего года)  \n",
       "24                               Срок ведения бизнеса  \n",
       "25                   Срок с момента присваивания ОГРН  \n",
       "26     Срок с момента регистрации юридического адреса  \n",
       "27             Срок с момента назначения руководителя  \n",
       "28                  Срок с момента установки капитала  \n",
       "29                             Количество сотрудников  \n",
       "30                                  Величина капитала  \n",
       "31                              Количество акционеров  \n",
       "32                                Количество филиалов  \n",
       "33                  Компания стратегического значения  \n",
       "34                         Системообразующая компания  "
      ]
     },
     "execution_count": 3,
     "metadata": {},
     "output_type": "execute_result"
    }
   ],
   "source": [
    "desc_df"
   ]
  },
  {
   "cell_type": "markdown",
   "metadata": {
    "id": "An6p1hDkN92J"
   },
   "source": [
    "Семплы и размеры выборок"
   ]
  },
  {
   "cell_type": "code",
   "execution_count": 4,
   "metadata": {
    "colab": {
     "base_uri": "https://localhost:8080/",
     "height": 211
    },
    "id": "FDqOr3Du8C1Y",
    "outputId": "5fa6016a-6113-459c-a67e-9fd3d2fff623"
   },
   "outputs": [
    {
     "data": {
      "text/html": [
       "<div>\n",
       "<style scoped>\n",
       "    .dataframe tbody tr th:only-of-type {\n",
       "        vertical-align: middle;\n",
       "    }\n",
       "\n",
       "    .dataframe tbody tr th {\n",
       "        vertical-align: top;\n",
       "    }\n",
       "\n",
       "    .dataframe thead th {\n",
       "        text-align: right;\n",
       "    }\n",
       "</style>\n",
       "<table border=\"1\" class=\"dataframe\">\n",
       "  <thead>\n",
       "    <tr style=\"text-align: right;\">\n",
       "      <th></th>\n",
       "      <th>record_id</th>\n",
       "      <th>ar_revenue</th>\n",
       "      <th>ar_total_expenses</th>\n",
       "      <th>ar_sale_cost</th>\n",
       "      <th>ar_selling_expenses</th>\n",
       "      <th>ar_management_expenses</th>\n",
       "      <th>ar_sale_profit</th>\n",
       "      <th>ar_balance_of_rvns_and_expns</th>\n",
       "      <th>ar_profit_before_tax</th>\n",
       "      <th>ar_taxes</th>\n",
       "      <th>...</th>\n",
       "      <th>adr_actual_age</th>\n",
       "      <th>head_actual_age</th>\n",
       "      <th>cap_actual_age</th>\n",
       "      <th>ul_staff_range</th>\n",
       "      <th>ul_capital_sum</th>\n",
       "      <th>ul_founders_cnt</th>\n",
       "      <th>ul_branch_cnt</th>\n",
       "      <th>ul_strategic_flg</th>\n",
       "      <th>ul_systematizing_flg</th>\n",
       "      <th>default_12m</th>\n",
       "    </tr>\n",
       "  </thead>\n",
       "  <tbody>\n",
       "    <tr>\n",
       "      <th>0</th>\n",
       "      <td>7</td>\n",
       "      <td>52996000.0</td>\n",
       "      <td>48344000.0</td>\n",
       "      <td>48344000.0</td>\n",
       "      <td>0.0</td>\n",
       "      <td>0.0</td>\n",
       "      <td>4652000.0</td>\n",
       "      <td>-2608000.0</td>\n",
       "      <td>2044000.0</td>\n",
       "      <td>846000.0</td>\n",
       "      <td>...</td>\n",
       "      <td>3</td>\n",
       "      <td>3</td>\n",
       "      <td>3</td>\n",
       "      <td>[1-100]</td>\n",
       "      <td>50000.0</td>\n",
       "      <td>2</td>\n",
       "      <td>0</td>\n",
       "      <td>0</td>\n",
       "      <td>0</td>\n",
       "      <td>0</td>\n",
       "    </tr>\n",
       "    <tr>\n",
       "      <th>1</th>\n",
       "      <td>13</td>\n",
       "      <td>NaN</td>\n",
       "      <td>NaN</td>\n",
       "      <td>NaN</td>\n",
       "      <td>NaN</td>\n",
       "      <td>NaN</td>\n",
       "      <td>NaN</td>\n",
       "      <td>NaN</td>\n",
       "      <td>NaN</td>\n",
       "      <td>NaN</td>\n",
       "      <td>...</td>\n",
       "      <td>12</td>\n",
       "      <td>12</td>\n",
       "      <td>12</td>\n",
       "      <td>[1-100]</td>\n",
       "      <td>10000.0</td>\n",
       "      <td>5</td>\n",
       "      <td>0</td>\n",
       "      <td>0</td>\n",
       "      <td>0</td>\n",
       "      <td>0</td>\n",
       "    </tr>\n",
       "    <tr>\n",
       "      <th>2</th>\n",
       "      <td>18</td>\n",
       "      <td>NaN</td>\n",
       "      <td>NaN</td>\n",
       "      <td>NaN</td>\n",
       "      <td>NaN</td>\n",
       "      <td>NaN</td>\n",
       "      <td>NaN</td>\n",
       "      <td>NaN</td>\n",
       "      <td>NaN</td>\n",
       "      <td>NaN</td>\n",
       "      <td>...</td>\n",
       "      <td>28</td>\n",
       "      <td>28</td>\n",
       "      <td>28</td>\n",
       "      <td>[1-100]</td>\n",
       "      <td>10000.0</td>\n",
       "      <td>2</td>\n",
       "      <td>0</td>\n",
       "      <td>0</td>\n",
       "      <td>0</td>\n",
       "      <td>0</td>\n",
       "    </tr>\n",
       "    <tr>\n",
       "      <th>3</th>\n",
       "      <td>22</td>\n",
       "      <td>32049000.0</td>\n",
       "      <td>29568000.0</td>\n",
       "      <td>29568000.0</td>\n",
       "      <td>0.0</td>\n",
       "      <td>0.0</td>\n",
       "      <td>2481000.0</td>\n",
       "      <td>-260000.0</td>\n",
       "      <td>2221000.0</td>\n",
       "      <td>302000.0</td>\n",
       "      <td>...</td>\n",
       "      <td>8</td>\n",
       "      <td>8</td>\n",
       "      <td>8</td>\n",
       "      <td>[1-100]</td>\n",
       "      <td>300000.0</td>\n",
       "      <td>1</td>\n",
       "      <td>0</td>\n",
       "      <td>0</td>\n",
       "      <td>0</td>\n",
       "      <td>0</td>\n",
       "    </tr>\n",
       "    <tr>\n",
       "      <th>4</th>\n",
       "      <td>23</td>\n",
       "      <td>16458000.0</td>\n",
       "      <td>14935000.0</td>\n",
       "      <td>14935000.0</td>\n",
       "      <td>0.0</td>\n",
       "      <td>0.0</td>\n",
       "      <td>1523000.0</td>\n",
       "      <td>-274000.0</td>\n",
       "      <td>1249000.0</td>\n",
       "      <td>538000.0</td>\n",
       "      <td>...</td>\n",
       "      <td>27</td>\n",
       "      <td>27</td>\n",
       "      <td>27</td>\n",
       "      <td>[1-100]</td>\n",
       "      <td>10000.0</td>\n",
       "      <td>2</td>\n",
       "      <td>0</td>\n",
       "      <td>0</td>\n",
       "      <td>0</td>\n",
       "      <td>0</td>\n",
       "    </tr>\n",
       "  </tbody>\n",
       "</table>\n",
       "<p>5 rows × 37 columns</p>\n",
       "</div>"
      ],
      "text/plain": [
       "   record_id  ar_revenue  ar_total_expenses  ar_sale_cost  \\\n",
       "0          7  52996000.0         48344000.0    48344000.0   \n",
       "1         13         NaN                NaN           NaN   \n",
       "2         18         NaN                NaN           NaN   \n",
       "3         22  32049000.0         29568000.0    29568000.0   \n",
       "4         23  16458000.0         14935000.0    14935000.0   \n",
       "\n",
       "   ar_selling_expenses  ar_management_expenses  ar_sale_profit  \\\n",
       "0                  0.0                     0.0       4652000.0   \n",
       "1                  NaN                     NaN             NaN   \n",
       "2                  NaN                     NaN             NaN   \n",
       "3                  0.0                     0.0       2481000.0   \n",
       "4                  0.0                     0.0       1523000.0   \n",
       "\n",
       "   ar_balance_of_rvns_and_expns  ar_profit_before_tax  ar_taxes  ...  \\\n",
       "0                    -2608000.0             2044000.0  846000.0  ...   \n",
       "1                           NaN                   NaN       NaN  ...   \n",
       "2                           NaN                   NaN       NaN  ...   \n",
       "3                     -260000.0             2221000.0  302000.0  ...   \n",
       "4                     -274000.0             1249000.0  538000.0  ...   \n",
       "\n",
       "   adr_actual_age  head_actual_age  cap_actual_age  ul_staff_range  \\\n",
       "0               3                3               3         [1-100]   \n",
       "1              12               12              12         [1-100]   \n",
       "2              28               28              28         [1-100]   \n",
       "3               8                8               8         [1-100]   \n",
       "4              27               27              27         [1-100]   \n",
       "\n",
       "   ul_capital_sum  ul_founders_cnt  ul_branch_cnt  ul_strategic_flg  \\\n",
       "0         50000.0                2              0                 0   \n",
       "1         10000.0                5              0                 0   \n",
       "2         10000.0                2              0                 0   \n",
       "3        300000.0                1              0                 0   \n",
       "4         10000.0                2              0                 0   \n",
       "\n",
       "   ul_systematizing_flg  default_12m  \n",
       "0                     0            0  \n",
       "1                     0            0  \n",
       "2                     0            0  \n",
       "3                     0            0  \n",
       "4                     0            0  \n",
       "\n",
       "[5 rows x 37 columns]"
      ]
     },
     "execution_count": 4,
     "metadata": {},
     "output_type": "execute_result"
    }
   ],
   "source": [
    "train_df.head()"
   ]
  },
  {
   "cell_type": "code",
   "execution_count": 5,
   "metadata": {
    "colab": {
     "base_uri": "https://localhost:8080/",
     "height": 33
    },
    "id": "wW_OWNg-8Hfi",
    "outputId": "bf27a3ab-e63d-4f0a-e9c8-8636e885ab01"
   },
   "outputs": [
    {
     "data": {
      "text/plain": [
       "(32395, 37)"
      ]
     },
     "execution_count": 5,
     "metadata": {},
     "output_type": "execute_result"
    }
   ],
   "source": [
    "train_df.shape"
   ]
  },
  {
   "cell_type": "code",
   "execution_count": 6,
   "metadata": {
    "colab": {
     "base_uri": "https://localhost:8080/",
     "height": 211
    },
    "id": "YLkB3G8P8EF9",
    "outputId": "abf47c85-164f-4596-b9d5-8db8b7ee539a",
    "scrolled": true
   },
   "outputs": [
    {
     "data": {
      "text/html": [
       "<div>\n",
       "<style scoped>\n",
       "    .dataframe tbody tr th:only-of-type {\n",
       "        vertical-align: middle;\n",
       "    }\n",
       "\n",
       "    .dataframe tbody tr th {\n",
       "        vertical-align: top;\n",
       "    }\n",
       "\n",
       "    .dataframe thead th {\n",
       "        text-align: right;\n",
       "    }\n",
       "</style>\n",
       "<table border=\"1\" class=\"dataframe\">\n",
       "  <thead>\n",
       "    <tr style=\"text-align: right;\">\n",
       "      <th></th>\n",
       "      <th>record_id</th>\n",
       "      <th>ar_revenue</th>\n",
       "      <th>ar_total_expenses</th>\n",
       "      <th>ar_sale_cost</th>\n",
       "      <th>ar_selling_expenses</th>\n",
       "      <th>ar_management_expenses</th>\n",
       "      <th>ar_sale_profit</th>\n",
       "      <th>ar_balance_of_rvns_and_expns</th>\n",
       "      <th>ar_profit_before_tax</th>\n",
       "      <th>ar_taxes</th>\n",
       "      <th>...</th>\n",
       "      <th>ogrn_age</th>\n",
       "      <th>adr_actual_age</th>\n",
       "      <th>head_actual_age</th>\n",
       "      <th>cap_actual_age</th>\n",
       "      <th>ul_staff_range</th>\n",
       "      <th>ul_capital_sum</th>\n",
       "      <th>ul_founders_cnt</th>\n",
       "      <th>ul_branch_cnt</th>\n",
       "      <th>ul_strategic_flg</th>\n",
       "      <th>ul_systematizing_flg</th>\n",
       "    </tr>\n",
       "  </thead>\n",
       "  <tbody>\n",
       "    <tr>\n",
       "      <th>0</th>\n",
       "      <td>196</td>\n",
       "      <td>39103000.0</td>\n",
       "      <td>38913000.0</td>\n",
       "      <td>38913000.0</td>\n",
       "      <td>0.0</td>\n",
       "      <td>0.0</td>\n",
       "      <td>190000.0</td>\n",
       "      <td>141000.0</td>\n",
       "      <td>331000.0</td>\n",
       "      <td>284000.0</td>\n",
       "      <td>...</td>\n",
       "      <td>135</td>\n",
       "      <td>3</td>\n",
       "      <td>3</td>\n",
       "      <td>3</td>\n",
       "      <td>[1-100]</td>\n",
       "      <td>100000.0</td>\n",
       "      <td>1</td>\n",
       "      <td>0</td>\n",
       "      <td>0</td>\n",
       "      <td>0</td>\n",
       "    </tr>\n",
       "    <tr>\n",
       "      <th>1</th>\n",
       "      <td>1196</td>\n",
       "      <td>NaN</td>\n",
       "      <td>NaN</td>\n",
       "      <td>NaN</td>\n",
       "      <td>NaN</td>\n",
       "      <td>NaN</td>\n",
       "      <td>NaN</td>\n",
       "      <td>NaN</td>\n",
       "      <td>NaN</td>\n",
       "      <td>NaN</td>\n",
       "      <td>...</td>\n",
       "      <td>138</td>\n",
       "      <td>5</td>\n",
       "      <td>5</td>\n",
       "      <td>5</td>\n",
       "      <td>[1-100]</td>\n",
       "      <td>100000.0</td>\n",
       "      <td>1</td>\n",
       "      <td>0</td>\n",
       "      <td>0</td>\n",
       "      <td>0</td>\n",
       "    </tr>\n",
       "    <tr>\n",
       "      <th>2</th>\n",
       "      <td>2813</td>\n",
       "      <td>54174000.0</td>\n",
       "      <td>50929000.0</td>\n",
       "      <td>50929000.0</td>\n",
       "      <td>0.0</td>\n",
       "      <td>0.0</td>\n",
       "      <td>3245000.0</td>\n",
       "      <td>-1278000.0</td>\n",
       "      <td>1967000.0</td>\n",
       "      <td>500000.0</td>\n",
       "      <td>...</td>\n",
       "      <td>138</td>\n",
       "      <td>20</td>\n",
       "      <td>20</td>\n",
       "      <td>20</td>\n",
       "      <td>[1-100]</td>\n",
       "      <td>250000.0</td>\n",
       "      <td>2</td>\n",
       "      <td>0</td>\n",
       "      <td>0</td>\n",
       "      <td>0</td>\n",
       "    </tr>\n",
       "    <tr>\n",
       "      <th>3</th>\n",
       "      <td>4385</td>\n",
       "      <td>1904000.0</td>\n",
       "      <td>1679000.0</td>\n",
       "      <td>1679000.0</td>\n",
       "      <td>0.0</td>\n",
       "      <td>0.0</td>\n",
       "      <td>225000.0</td>\n",
       "      <td>-88000.0</td>\n",
       "      <td>137000.0</td>\n",
       "      <td>0.0</td>\n",
       "      <td>...</td>\n",
       "      <td>139</td>\n",
       "      <td>9</td>\n",
       "      <td>9</td>\n",
       "      <td>9</td>\n",
       "      <td>[1-100]</td>\n",
       "      <td>10000.0</td>\n",
       "      <td>2</td>\n",
       "      <td>0</td>\n",
       "      <td>0</td>\n",
       "      <td>0</td>\n",
       "    </tr>\n",
       "    <tr>\n",
       "      <th>4</th>\n",
       "      <td>6479</td>\n",
       "      <td>225584000.0</td>\n",
       "      <td>210685000.0</td>\n",
       "      <td>210685000.0</td>\n",
       "      <td>0.0</td>\n",
       "      <td>0.0</td>\n",
       "      <td>14899000.0</td>\n",
       "      <td>-12715000.0</td>\n",
       "      <td>2184000.0</td>\n",
       "      <td>445000.0</td>\n",
       "      <td>...</td>\n",
       "      <td>139</td>\n",
       "      <td>3</td>\n",
       "      <td>3</td>\n",
       "      <td>3</td>\n",
       "      <td>(100-500]</td>\n",
       "      <td>1700598.0</td>\n",
       "      <td>84</td>\n",
       "      <td>0</td>\n",
       "      <td>0</td>\n",
       "      <td>0</td>\n",
       "    </tr>\n",
       "  </tbody>\n",
       "</table>\n",
       "<p>5 rows × 36 columns</p>\n",
       "</div>"
      ],
      "text/plain": [
       "   record_id   ar_revenue  ar_total_expenses  ar_sale_cost  \\\n",
       "0        196   39103000.0         38913000.0    38913000.0   \n",
       "1       1196          NaN                NaN           NaN   \n",
       "2       2813   54174000.0         50929000.0    50929000.0   \n",
       "3       4385    1904000.0          1679000.0     1679000.0   \n",
       "4       6479  225584000.0        210685000.0   210685000.0   \n",
       "\n",
       "   ar_selling_expenses  ar_management_expenses  ar_sale_profit  \\\n",
       "0                  0.0                     0.0        190000.0   \n",
       "1                  NaN                     NaN             NaN   \n",
       "2                  0.0                     0.0       3245000.0   \n",
       "3                  0.0                     0.0        225000.0   \n",
       "4                  0.0                     0.0      14899000.0   \n",
       "\n",
       "   ar_balance_of_rvns_and_expns  ar_profit_before_tax  ar_taxes  ...  \\\n",
       "0                      141000.0              331000.0  284000.0  ...   \n",
       "1                           NaN                   NaN       NaN  ...   \n",
       "2                    -1278000.0             1967000.0  500000.0  ...   \n",
       "3                      -88000.0              137000.0       0.0  ...   \n",
       "4                   -12715000.0             2184000.0  445000.0  ...   \n",
       "\n",
       "   ogrn_age  adr_actual_age  head_actual_age  cap_actual_age  ul_staff_range  \\\n",
       "0       135               3                3               3         [1-100]   \n",
       "1       138               5                5               5         [1-100]   \n",
       "2       138              20               20              20         [1-100]   \n",
       "3       139               9                9               9         [1-100]   \n",
       "4       139               3                3               3       (100-500]   \n",
       "\n",
       "   ul_capital_sum  ul_founders_cnt  ul_branch_cnt  ul_strategic_flg  \\\n",
       "0        100000.0                1              0                 0   \n",
       "1        100000.0                1              0                 0   \n",
       "2        250000.0                2              0                 0   \n",
       "3         10000.0                2              0                 0   \n",
       "4       1700598.0               84              0                 0   \n",
       "\n",
       "   ul_systematizing_flg  \n",
       "0                     0  \n",
       "1                     0  \n",
       "2                     0  \n",
       "3                     0  \n",
       "4                     0  \n",
       "\n",
       "[5 rows x 36 columns]"
      ]
     },
     "execution_count": 6,
     "metadata": {},
     "output_type": "execute_result"
    }
   ],
   "source": [
    "test_df.head()"
   ]
  },
  {
   "cell_type": "code",
   "execution_count": 7,
   "metadata": {
    "colab": {
     "base_uri": "https://localhost:8080/",
     "height": 33
    },
    "id": "ap4HITfx8KC7",
    "outputId": "9ecd124f-3866-4416-e981-2994f08ef16f"
   },
   "outputs": [
    {
     "data": {
      "text/plain": [
       "(200, 36)"
      ]
     },
     "execution_count": 7,
     "metadata": {},
     "output_type": "execute_result"
    }
   ],
   "source": [
    "test_df.shape"
   ]
  },
  {
   "cell_type": "markdown",
   "metadata": {},
   "source": [
    "### Работа с данными"
   ]
  },
  {
   "cell_type": "code",
   "execution_count": 8,
   "metadata": {},
   "outputs": [
    {
     "data": {
      "text/plain": [
       "0    30304\n",
       "1     2091\n",
       "Name: default_12m, dtype: int64"
      ]
     },
     "execution_count": 8,
     "metadata": {},
     "output_type": "execute_result"
    }
   ],
   "source": [
    "# Посмотрим на баланс классов в датасете\n",
    "train_df['default_12m'].value_counts()"
   ]
  },
  {
   "cell_type": "markdown",
   "metadata": {},
   "source": [
    "Видно что объектов первого класса сильно меньше чем нулевого.\n",
    "Возникает проблема дисбаланса классов.\n",
    "\n",
    "Модель выдает некоторые оценки принадлежности к классам (вероятности), а сама классификация – это результат бинаризации (по умолчанию порог = 0.5). Но порог можно подбирать, я буду использовать такую стратегию: с помощью cross validation подберу оптимальный порог для заданной метрики (в данном случае оценка проводится с помощью accuracy на сбалансированных выборках).\n",
    "Этот же порог будем потом использовать на тесте.\n",
    "\n",
    "Поскольку меня интересует не итоговая классификация модели, а правильное ранжирование объектов по вероятнстям, я буду максимизировать метрику roc-auc. Так как для хорошо отранжированных объектов, потом можно будет подобрать оптимальный порог бинаризации."
   ]
  },
  {
   "cell_type": "code",
   "execution_count": 9,
   "metadata": {
    "colab": {
     "base_uri": "https://localhost:8080/",
     "height": 82
    },
    "id": "cYOxzyvLN92O",
    "outputId": "8d0185c7-5342-4f91-c287-1dc422fa1b55"
   },
   "outputs": [
    {
     "data": {
      "text/plain": [
       "float64    25\n",
       "int64      11\n",
       "object      1\n",
       "dtype: int64"
      ]
     },
     "execution_count": 9,
     "metadata": {},
     "output_type": "execute_result"
    }
   ],
   "source": [
    "# Количество разных типов фичей\n",
    "train_df.dtypes.value_counts()"
   ]
  },
  {
   "cell_type": "code",
   "execution_count": 10,
   "metadata": {},
   "outputs": [
    {
     "data": {
      "text/plain": [
       "record_id                         int64\n",
       "ar_revenue                      float64\n",
       "ar_total_expenses               float64\n",
       "ar_sale_cost                    float64\n",
       "ar_selling_expenses             float64\n",
       "ar_management_expenses          float64\n",
       "ar_sale_profit                  float64\n",
       "ar_balance_of_rvns_and_expns    float64\n",
       "ar_profit_before_tax            float64\n",
       "ar_taxes                        float64\n",
       "ar_other_profit_and_losses      float64\n",
       "ar_net_profit                   float64\n",
       "ab_immobilized_assets           float64\n",
       "ab_mobile_current_assets        float64\n",
       "ab_inventory                    float64\n",
       "ab_accounts_receivable          float64\n",
       "ab_other_current_assets         float64\n",
       "ab_cash_and_securities          float64\n",
       "ab_losses                       float64\n",
       "ab_own_capital                  float64\n",
       "ab_borrowed_capital             float64\n",
       "ab_long_term_liabilities        float64\n",
       "ab_short_term_borrowing         float64\n",
       "ab_accounts_payable             float64\n",
       "ab_other_borrowings             float64\n",
       "bus_age                           int64\n",
       "ogrn_age                          int64\n",
       "adr_actual_age                    int64\n",
       "head_actual_age                   int64\n",
       "cap_actual_age                    int64\n",
       "ul_staff_range                   object\n",
       "ul_capital_sum                  float64\n",
       "ul_founders_cnt                   int64\n",
       "ul_branch_cnt                     int64\n",
       "ul_strategic_flg                  int64\n",
       "ul_systematizing_flg              int64\n",
       "default_12m                       int64\n",
       "dtype: object"
      ]
     },
     "execution_count": 10,
     "metadata": {},
     "output_type": "execute_result"
    }
   ],
   "source": [
    "train_df.dtypes"
   ]
  },
  {
   "cell_type": "markdown",
   "metadata": {},
   "source": [
    "##### В данных имеются несколько категориальных признаков"
   ]
  },
  {
   "cell_type": "code",
   "execution_count": 11,
   "metadata": {},
   "outputs": [
    {
     "data": {
      "text/plain": [
       "[1-100]      29281\n",
       "(100-500]     2757\n",
       "> 500          357\n",
       "Name: ul_staff_range, dtype: int64"
      ]
     },
     "execution_count": 11,
     "metadata": {},
     "output_type": "execute_result"
    }
   ],
   "source": [
    "#1. ul_staff_range - порядковый признак, так как \"[1-100]\"<\"(100-500]\"<\"> 500\"  \n",
    "train_df['ul_staff_range'].value_counts()"
   ]
  },
  {
   "cell_type": "code",
   "execution_count": 12,
   "metadata": {},
   "outputs": [
    {
     "data": {
      "text/plain": [
       "0    32395\n",
       "Name: ul_systematizing_flg, dtype: int64"
      ]
     },
     "execution_count": 12,
     "metadata": {},
     "output_type": "execute_result"
    }
   ],
   "source": [
    "#Данный признак на всей обучающей выборке принимает одно значение, поэтому не несет в себе информации, далее удалю его\n",
    "train_df['ul_systematizing_flg'].value_counts()"
   ]
  },
  {
   "cell_type": "code",
   "execution_count": 13,
   "metadata": {},
   "outputs": [
    {
     "data": {
      "text/plain": [
       "0    32392\n",
       "1        3\n",
       "Name: ul_strategic_flg, dtype: int64"
      ]
     },
     "execution_count": 13,
     "metadata": {},
     "output_type": "execute_result"
    }
   ],
   "source": [
    "#Данный признак так же не несет ценности, так как только на трех объектах приимает значение 1, на остальных - 0\n",
    "train_df['ul_strategic_flg'].value_counts()"
   ]
  },
  {
   "cell_type": "code",
   "execution_count": 14,
   "metadata": {},
   "outputs": [],
   "source": [
    "#Кодирую признак ul_staff_range\n",
    "staff_encoder = {'[1-100]': 0, '(100-500]': 1, '> 500': 2}\n",
    "\n",
    "train_df['ul_staff_range'].replace(staff_encoder, inplace=True)\n",
    "test_df['ul_staff_range'].replace(staff_encoder, inplace=True)"
   ]
  },
  {
   "cell_type": "code",
   "execution_count": 15,
   "metadata": {},
   "outputs": [],
   "source": [
    "#record_id  - просто индекс записи, тоже не несет информации\n",
    "train_df.drop('record_id', axis=1, inplace=True)\n",
    "test_df.drop('record_id', axis=1, inplace=True)"
   ]
  },
  {
   "cell_type": "markdown",
   "metadata": {},
   "source": [
    "#### Работа с пропусками\n",
    "В данных много пропущенных значений, около половины объектов имеют пропуски в большей части колонок(причем всегда в одинаковых).\n",
    "Удаление таких записей сильно уменьший обучающий датасет, поэтому постараюсь заполнить их."
   ]
  },
  {
   "cell_type": "code",
   "execution_count": 16,
   "metadata": {},
   "outputs": [
    {
     "data": {
      "text/plain": [
       "ar_revenue                      15145\n",
       "ar_total_expenses               15145\n",
       "ar_sale_cost                    15145\n",
       "ar_selling_expenses             15145\n",
       "ar_management_expenses          15145\n",
       "ar_sale_profit                  15145\n",
       "ar_balance_of_rvns_and_expns    15145\n",
       "ar_profit_before_tax            15145\n",
       "ar_taxes                        15145\n",
       "ar_other_profit_and_losses      15145\n",
       "ar_net_profit                   15145\n",
       "ab_immobilized_assets           15145\n",
       "ab_mobile_current_assets        15145\n",
       "ab_inventory                    15145\n",
       "ab_accounts_receivable          15145\n",
       "ab_other_current_assets         15145\n",
       "ab_cash_and_securities          15145\n",
       "ab_losses                       15145\n",
       "ab_own_capital                  15145\n",
       "ab_borrowed_capital             15145\n",
       "ab_long_term_liabilities        15145\n",
       "ab_short_term_borrowing         15145\n",
       "ab_accounts_payable             15145\n",
       "ab_other_borrowings             15145\n",
       "bus_age                             0\n",
       "ogrn_age                            0\n",
       "adr_actual_age                      0\n",
       "head_actual_age                     0\n",
       "cap_actual_age                      0\n",
       "ul_staff_range                      0\n",
       "ul_capital_sum                      0\n",
       "ul_founders_cnt                     0\n",
       "ul_branch_cnt                       0\n",
       "ul_strategic_flg                    0\n",
       "ul_systematizing_flg                0\n",
       "default_12m                         0\n",
       "dtype: int64"
      ]
     },
     "execution_count": 16,
     "metadata": {},
     "output_type": "execute_result"
    }
   ],
   "source": [
    "train_df.isna().sum()"
   ]
  },
  {
   "cell_type": "code",
   "execution_count": 17,
   "metadata": {},
   "outputs": [
    {
     "data": {
      "text/plain": [
       "['bus_age',\n",
       " 'ogrn_age',\n",
       " 'adr_actual_age',\n",
       " 'head_actual_age',\n",
       " 'cap_actual_age',\n",
       " 'ul_staff_range',\n",
       " 'ul_capital_sum',\n",
       " 'ul_founders_cnt',\n",
       " 'ul_branch_cnt',\n",
       " 'ul_strategic_flg',\n",
       " 'ul_systematizing_flg',\n",
       " 'default_12m']"
      ]
     },
     "execution_count": 17,
     "metadata": {},
     "output_type": "execute_result"
    }
   ],
   "source": [
    "# Признаки без пропусков\n",
    "not_nan = train_df.isna().sum()\n",
    "not_nan_cols = list(not_nan[not_nan == 0].index)\n",
    "not_nan_cols"
   ]
  },
  {
   "cell_type": "markdown",
   "metadata": {},
   "source": [
    "#### Заполнение пропусков\n",
    "Для заполнения буду использовать простую линейную регрессию, которая по признакам без пропусков предсказывает пропущенные значения."
   ]
  },
  {
   "cell_type": "code",
   "execution_count": 18,
   "metadata": {},
   "outputs": [
    {
     "name": "stdout",
     "output_type": "stream",
     "text": [
      "[IterativeImputer] Completing matrix with shape (32395, 35)\n",
      "[IterativeImputer] Ending imputation round 1/100, elapsed time 3.04\n",
      "[IterativeImputer] Change: 366654592.0000656, scaled tolerance: 3349389.0 \n",
      "[IterativeImputer] Ending imputation round 2/100, elapsed time 4.96\n",
      "[IterativeImputer] Change: 434880688.0000662, scaled tolerance: 3349389.0 \n",
      "[IterativeImputer] Ending imputation round 3/100, elapsed time 6.55\n",
      "[IterativeImputer] Change: 336836312.0000661, scaled tolerance: 3349389.0 \n",
      "[IterativeImputer] Ending imputation round 4/100, elapsed time 8.45\n",
      "[IterativeImputer] Change: 255044224.00006798, scaled tolerance: 3349389.0 \n",
      "[IterativeImputer] Ending imputation round 5/100, elapsed time 10.11\n",
      "[IterativeImputer] Change: 192257312.00007066, scaled tolerance: 3349389.0 \n",
      "[IterativeImputer] Ending imputation round 6/100, elapsed time 11.91\n",
      "[IterativeImputer] Change: 144787680.00007266, scaled tolerance: 3349389.0 \n",
      "[IterativeImputer] Ending imputation round 7/100, elapsed time 13.82\n",
      "[IterativeImputer] Change: 109030552.00007474, scaled tolerance: 3349389.0 \n",
      "[IterativeImputer] Ending imputation round 8/100, elapsed time 15.64\n",
      "[IterativeImputer] Change: 82094592.00007679, scaled tolerance: 3349389.0 \n",
      "[IterativeImputer] Ending imputation round 9/100, elapsed time 17.26\n",
      "[IterativeImputer] Change: 61813336.000077814, scaled tolerance: 3349389.0 \n",
      "[IterativeImputer] Ending imputation round 10/100, elapsed time 18.97\n",
      "[IterativeImputer] Change: 46547152.000079535, scaled tolerance: 3349389.0 \n",
      "[IterativeImputer] Ending imputation round 11/100, elapsed time 20.69\n",
      "[IterativeImputer] Change: 35049256.000080004, scaled tolerance: 3349389.0 \n",
      "[IterativeImputer] Ending imputation round 12/100, elapsed time 22.51\n",
      "[IterativeImputer] Change: 26391496.000080492, scaled tolerance: 3349389.0 \n",
      "[IterativeImputer] Ending imputation round 13/100, elapsed time 24.13\n",
      "[IterativeImputer] Change: 19870528.000080705, scaled tolerance: 3349389.0 \n",
      "[IterativeImputer] Ending imputation round 14/100, elapsed time 25.77\n",
      "[IterativeImputer] Change: 14965928.000081144, scaled tolerance: 3349389.0 \n",
      "[IterativeImputer] Ending imputation round 15/100, elapsed time 27.75\n",
      "[IterativeImputer] Change: 11268904.000081973, scaled tolerance: 3349389.0 \n",
      "[IterativeImputer] Ending imputation round 16/100, elapsed time 29.50\n",
      "[IterativeImputer] Change: 8486976.000082213, scaled tolerance: 3349389.0 \n",
      "[IterativeImputer] Ending imputation round 17/100, elapsed time 31.91\n",
      "[IterativeImputer] Change: 6387000.000082206, scaled tolerance: 3349389.0 \n",
      "[IterativeImputer] Ending imputation round 18/100, elapsed time 33.64\n",
      "[IterativeImputer] Change: 4807336.000081984, scaled tolerance: 3349389.0 \n",
      "[IterativeImputer] Ending imputation round 19/100, elapsed time 35.53\n",
      "[IterativeImputer] Change: 3619440.000081953, scaled tolerance: 3349389.0 \n",
      "[IterativeImputer] Ending imputation round 20/100, elapsed time 37.42\n",
      "[IterativeImputer] Change: 2729008.0000819885, scaled tolerance: 3349389.0 \n",
      "[IterativeImputer] Early stopping criterion reached.\n"
     ]
    }
   ],
   "source": [
    "lr = LinearRegression()\n",
    "imputer = IterativeImputer(estimator=lr,\n",
    "                           missing_values=np.nan,\n",
    "                           max_iter=100,\n",
    "                           verbose=2,\n",
    "                           imputation_order='roman',\n",
    "                           random_state=0)\n",
    "\n",
    "train_df_inp=imputer.fit_transform(train_df.drop('default_12m', axis=1))"
   ]
  },
  {
   "cell_type": "code",
   "execution_count": 19,
   "metadata": {},
   "outputs": [
    {
     "name": "stdout",
     "output_type": "stream",
     "text": [
      "[IterativeImputer] Completing matrix with shape (200, 35)\n",
      "[IterativeImputer] Ending imputation round 1/20, elapsed time 0.01\n",
      "[IterativeImputer] Ending imputation round 2/20, elapsed time 0.02\n",
      "[IterativeImputer] Ending imputation round 3/20, elapsed time 0.02\n",
      "[IterativeImputer] Ending imputation round 4/20, elapsed time 0.03\n",
      "[IterativeImputer] Ending imputation round 5/20, elapsed time 0.05\n",
      "[IterativeImputer] Ending imputation round 6/20, elapsed time 0.06\n",
      "[IterativeImputer] Ending imputation round 7/20, elapsed time 0.07\n",
      "[IterativeImputer] Ending imputation round 8/20, elapsed time 0.09\n",
      "[IterativeImputer] Ending imputation round 9/20, elapsed time 0.10\n",
      "[IterativeImputer] Ending imputation round 10/20, elapsed time 0.11\n",
      "[IterativeImputer] Ending imputation round 11/20, elapsed time 0.12\n",
      "[IterativeImputer] Ending imputation round 12/20, elapsed time 0.12\n",
      "[IterativeImputer] Ending imputation round 13/20, elapsed time 0.13\n",
      "[IterativeImputer] Ending imputation round 14/20, elapsed time 0.14\n",
      "[IterativeImputer] Ending imputation round 15/20, elapsed time 0.14\n",
      "[IterativeImputer] Ending imputation round 16/20, elapsed time 0.15\n",
      "[IterativeImputer] Ending imputation round 17/20, elapsed time 0.17\n",
      "[IterativeImputer] Ending imputation round 18/20, elapsed time 0.18\n",
      "[IterativeImputer] Ending imputation round 19/20, elapsed time 0.18\n",
      "[IterativeImputer] Ending imputation round 20/20, elapsed time 0.19\n"
     ]
    }
   ],
   "source": [
    "# Заполнил пропуски\n",
    "cols = train_df.drop('default_12m', axis=1).columns\n",
    "train_df_x = pd.DataFrame(train_df_inp, columns=test_df.columns)\n",
    "test_df_x = pd.DataFrame(imputer.transform(test_df), columns=test_df.columns)"
   ]
  },
  {
   "cell_type": "code",
   "execution_count": 20,
   "metadata": {},
   "outputs": [
    {
     "data": {
      "text/html": [
       "<div>\n",
       "<style scoped>\n",
       "    .dataframe tbody tr th:only-of-type {\n",
       "        vertical-align: middle;\n",
       "    }\n",
       "\n",
       "    .dataframe tbody tr th {\n",
       "        vertical-align: top;\n",
       "    }\n",
       "\n",
       "    .dataframe thead th {\n",
       "        text-align: right;\n",
       "    }\n",
       "</style>\n",
       "<table border=\"1\" class=\"dataframe\">\n",
       "  <thead>\n",
       "    <tr style=\"text-align: right;\">\n",
       "      <th></th>\n",
       "      <th>ar_revenue</th>\n",
       "      <th>ar_total_expenses</th>\n",
       "      <th>ar_sale_cost</th>\n",
       "      <th>ar_selling_expenses</th>\n",
       "      <th>ar_management_expenses</th>\n",
       "      <th>ar_sale_profit</th>\n",
       "      <th>ar_balance_of_rvns_and_expns</th>\n",
       "      <th>ar_profit_before_tax</th>\n",
       "      <th>ar_taxes</th>\n",
       "      <th>ar_other_profit_and_losses</th>\n",
       "      <th>...</th>\n",
       "      <th>ogrn_age</th>\n",
       "      <th>adr_actual_age</th>\n",
       "      <th>head_actual_age</th>\n",
       "      <th>cap_actual_age</th>\n",
       "      <th>ul_staff_range</th>\n",
       "      <th>ul_capital_sum</th>\n",
       "      <th>ul_founders_cnt</th>\n",
       "      <th>ul_branch_cnt</th>\n",
       "      <th>ul_strategic_flg</th>\n",
       "      <th>ul_systematizing_flg</th>\n",
       "    </tr>\n",
       "  </thead>\n",
       "  <tbody>\n",
       "    <tr>\n",
       "      <th>0</th>\n",
       "      <td>5.299600e+07</td>\n",
       "      <td>4.834400e+07</td>\n",
       "      <td>4.834400e+07</td>\n",
       "      <td>0.000000e+00</td>\n",
       "      <td>0.000000e+00</td>\n",
       "      <td>4.652000e+06</td>\n",
       "      <td>-2.608000e+06</td>\n",
       "      <td>2.044000e+06</td>\n",
       "      <td>846000.000000</td>\n",
       "      <td>0.000000</td>\n",
       "      <td>...</td>\n",
       "      <td>136.0</td>\n",
       "      <td>3.0</td>\n",
       "      <td>3.0</td>\n",
       "      <td>3.0</td>\n",
       "      <td>0.0</td>\n",
       "      <td>50000.0</td>\n",
       "      <td>2.0</td>\n",
       "      <td>0.0</td>\n",
       "      <td>0.0</td>\n",
       "      <td>0.0</td>\n",
       "    </tr>\n",
       "    <tr>\n",
       "      <th>1</th>\n",
       "      <td>8.153776e+07</td>\n",
       "      <td>7.678474e+07</td>\n",
       "      <td>7.320328e+07</td>\n",
       "      <td>2.499198e+06</td>\n",
       "      <td>1.082263e+06</td>\n",
       "      <td>4.753016e+06</td>\n",
       "      <td>-6.424773e+05</td>\n",
       "      <td>4.110538e+06</td>\n",
       "      <td>418807.105971</td>\n",
       "      <td>39373.043478</td>\n",
       "      <td>...</td>\n",
       "      <td>135.0</td>\n",
       "      <td>12.0</td>\n",
       "      <td>12.0</td>\n",
       "      <td>12.0</td>\n",
       "      <td>0.0</td>\n",
       "      <td>10000.0</td>\n",
       "      <td>5.0</td>\n",
       "      <td>0.0</td>\n",
       "      <td>0.0</td>\n",
       "      <td>0.0</td>\n",
       "    </tr>\n",
       "    <tr>\n",
       "      <th>2</th>\n",
       "      <td>8.153776e+07</td>\n",
       "      <td>7.678474e+07</td>\n",
       "      <td>7.320328e+07</td>\n",
       "      <td>2.499198e+06</td>\n",
       "      <td>1.082263e+06</td>\n",
       "      <td>4.753016e+06</td>\n",
       "      <td>-6.424773e+05</td>\n",
       "      <td>4.110538e+06</td>\n",
       "      <td>418807.105971</td>\n",
       "      <td>39373.043478</td>\n",
       "      <td>...</td>\n",
       "      <td>33.0</td>\n",
       "      <td>28.0</td>\n",
       "      <td>28.0</td>\n",
       "      <td>28.0</td>\n",
       "      <td>0.0</td>\n",
       "      <td>10000.0</td>\n",
       "      <td>2.0</td>\n",
       "      <td>0.0</td>\n",
       "      <td>0.0</td>\n",
       "      <td>0.0</td>\n",
       "    </tr>\n",
       "    <tr>\n",
       "      <th>3</th>\n",
       "      <td>3.204900e+07</td>\n",
       "      <td>2.956800e+07</td>\n",
       "      <td>2.956800e+07</td>\n",
       "      <td>0.000000e+00</td>\n",
       "      <td>0.000000e+00</td>\n",
       "      <td>2.481000e+06</td>\n",
       "      <td>-2.600000e+05</td>\n",
       "      <td>2.221000e+06</td>\n",
       "      <td>302000.000000</td>\n",
       "      <td>0.000000</td>\n",
       "      <td>...</td>\n",
       "      <td>139.0</td>\n",
       "      <td>8.0</td>\n",
       "      <td>8.0</td>\n",
       "      <td>8.0</td>\n",
       "      <td>0.0</td>\n",
       "      <td>300000.0</td>\n",
       "      <td>1.0</td>\n",
       "      <td>0.0</td>\n",
       "      <td>0.0</td>\n",
       "      <td>0.0</td>\n",
       "    </tr>\n",
       "    <tr>\n",
       "      <th>4</th>\n",
       "      <td>1.645800e+07</td>\n",
       "      <td>1.493500e+07</td>\n",
       "      <td>1.493500e+07</td>\n",
       "      <td>0.000000e+00</td>\n",
       "      <td>0.000000e+00</td>\n",
       "      <td>1.523000e+06</td>\n",
       "      <td>-2.740000e+05</td>\n",
       "      <td>1.249000e+06</td>\n",
       "      <td>538000.000000</td>\n",
       "      <td>0.000000</td>\n",
       "      <td>...</td>\n",
       "      <td>138.0</td>\n",
       "      <td>27.0</td>\n",
       "      <td>27.0</td>\n",
       "      <td>27.0</td>\n",
       "      <td>0.0</td>\n",
       "      <td>10000.0</td>\n",
       "      <td>2.0</td>\n",
       "      <td>0.0</td>\n",
       "      <td>0.0</td>\n",
       "      <td>0.0</td>\n",
       "    </tr>\n",
       "  </tbody>\n",
       "</table>\n",
       "<p>5 rows × 35 columns</p>\n",
       "</div>"
      ],
      "text/plain": [
       "     ar_revenue  ar_total_expenses  ar_sale_cost  ar_selling_expenses  \\\n",
       "0  5.299600e+07       4.834400e+07  4.834400e+07         0.000000e+00   \n",
       "1  8.153776e+07       7.678474e+07  7.320328e+07         2.499198e+06   \n",
       "2  8.153776e+07       7.678474e+07  7.320328e+07         2.499198e+06   \n",
       "3  3.204900e+07       2.956800e+07  2.956800e+07         0.000000e+00   \n",
       "4  1.645800e+07       1.493500e+07  1.493500e+07         0.000000e+00   \n",
       "\n",
       "   ar_management_expenses  ar_sale_profit  ar_balance_of_rvns_and_expns  \\\n",
       "0            0.000000e+00    4.652000e+06                 -2.608000e+06   \n",
       "1            1.082263e+06    4.753016e+06                 -6.424773e+05   \n",
       "2            1.082263e+06    4.753016e+06                 -6.424773e+05   \n",
       "3            0.000000e+00    2.481000e+06                 -2.600000e+05   \n",
       "4            0.000000e+00    1.523000e+06                 -2.740000e+05   \n",
       "\n",
       "   ar_profit_before_tax       ar_taxes  ar_other_profit_and_losses  ...  \\\n",
       "0          2.044000e+06  846000.000000                    0.000000  ...   \n",
       "1          4.110538e+06  418807.105971                39373.043478  ...   \n",
       "2          4.110538e+06  418807.105971                39373.043478  ...   \n",
       "3          2.221000e+06  302000.000000                    0.000000  ...   \n",
       "4          1.249000e+06  538000.000000                    0.000000  ...   \n",
       "\n",
       "   ogrn_age  adr_actual_age  head_actual_age  cap_actual_age  ul_staff_range  \\\n",
       "0     136.0             3.0              3.0             3.0             0.0   \n",
       "1     135.0            12.0             12.0            12.0             0.0   \n",
       "2      33.0            28.0             28.0            28.0             0.0   \n",
       "3     139.0             8.0              8.0             8.0             0.0   \n",
       "4     138.0            27.0             27.0            27.0             0.0   \n",
       "\n",
       "   ul_capital_sum  ul_founders_cnt  ul_branch_cnt  ul_strategic_flg  \\\n",
       "0         50000.0              2.0            0.0               0.0   \n",
       "1         10000.0              5.0            0.0               0.0   \n",
       "2         10000.0              2.0            0.0               0.0   \n",
       "3        300000.0              1.0            0.0               0.0   \n",
       "4         10000.0              2.0            0.0               0.0   \n",
       "\n",
       "   ul_systematizing_flg  \n",
       "0                   0.0  \n",
       "1                   0.0  \n",
       "2                   0.0  \n",
       "3                   0.0  \n",
       "4                   0.0  \n",
       "\n",
       "[5 rows x 35 columns]"
      ]
     },
     "execution_count": 20,
     "metadata": {},
     "output_type": "execute_result"
    }
   ],
   "source": [
    "train_df_x.head()"
   ]
  },
  {
   "cell_type": "markdown",
   "metadata": {},
   "source": [
    "#### Добавлю новые фичи\n",
    "Добавлю новые признаки, построенные на \"здравом смысле\".\n",
    "1. Отношение прибыли от реалтзации к выручке от реализации. Чем больше - тем лучше для компании.\n",
    "2. Чистая прибыль / Капитал. Какую часть от капитала составляет чистая прибыль, насколько она его пополняет.\n",
    "3. Общие долговые обязательства / Капитал. Чем меньше - тем лучше для компании.\n",
    "4. Общие долговые обязательства / Запасы. Чем меньше - тем лучше для компании.\n",
    "5. Запасы / Капитал. Какаую долю от капитала составляют запасы.\n",
    "6. Чистая прибыль / Запасы.\n",
    "7. Налог на прибыль / Прибыль от реализации. Чем меньше - тем лучше для компании.\n",
    "8. Нераспределенная прибыль / Прибыль от реализации."
   ]
  },
  {
   "cell_type": "code",
   "execution_count": 21,
   "metadata": {},
   "outputs": [],
   "source": [
    "# Добавляю константу к знаменателю, чтобы избежать деления на ноль\n",
    "def new_features(df):\n",
    "    df['sale/revenue'] = df['ar_sale_profit'] / (df['ar_revenue'] + 1e-7)\n",
    "    df['profit/capital'] = df['ar_net_profit'] / (df['ab_own_capital'] + 1e-7)\n",
    "    df['bor/capital'] = df['ab_borrowed_capital'] / (df['ab_own_capital'] + 1e-7)\n",
    "    df['bor/inventory'] = df['ab_borrowed_capital'] / (df['ab_inventory'] + 1e-7)\n",
    "    df['inv/capital'] = df['ab_inventory'] / (df['ab_own_capital'] + 1e-7)\n",
    "    df['profit/inventory'] = df['ar_net_profit'] / (df['ab_inventory'] + 1e-7)\n",
    "    df['taxes/profit'] = df['ar_taxes'] / (df['ar_sale_profit'] + 1e-7)\n",
    "    df['los/profit'] = df['ab_losses'] / (df['ar_sale_profit'] + 1e-7)\n",
    "    \n",
    "    return df\n",
    "\n",
    "train_df_x = new_features(train_df_x)\n",
    "test_df_x = new_features(test_df_x)"
   ]
  },
  {
   "cell_type": "code",
   "execution_count": 22,
   "metadata": {},
   "outputs": [
    {
     "data": {
      "image/png": "[encoded data removed]",
      "text/plain": [
       "<Figure size 1224x1224 with 49 Axes>"
      ]
     },
     "metadata": {
      "needs_background": "light"
     },
     "output_type": "display_data"
    }
   ],
   "source": [
    "# Посмотрим на распределение признаков\n",
    "train_df_x.hist(figsize=(17, 17));"
   ]
  },
  {
   "cell_type": "markdown",
   "metadata": {},
   "source": [
    "#### Отбор фичей\n",
    "Так как далее я буду использовать логистическую регрессию, необходимо избавиться от мультиколлинеарности признаков.\n",
    "Для этого использую модуль FeatureSelector, который не является отдельной библиотекой. Он был найден мной на просторах интернета. Cсылка на питоновский файл: https://github.com/WillKoehrsen/feature-selector/blob/master/feature_selector/feature_selector.py"
   ]
  },
  {
   "cell_type": "code",
   "execution_count": 23,
   "metadata": {},
   "outputs": [],
   "source": [
    "from feature_selector import FeatureSelector\n",
    "\n",
    "X_train, y_train = train_df_x, train_df['default_12m']\n",
    "fs = FeatureSelector(data = X_train, labels = y_train)"
   ]
  },
  {
   "cell_type": "code",
   "execution_count": 24,
   "metadata": {},
   "outputs": [
    {
     "name": "stdout",
     "output_type": "stream",
     "text": [
      "12 features with a correlation magnitude greater than 0.80.\n",
      "\n"
     ]
    },
    {
     "data": {
      "image/png": "[encoded data removed]",
      "text/plain": [
       "<Figure size 720x576 with 2 Axes>"
      ]
     },
     "metadata": {
      "needs_background": "light"
     },
     "output_type": "display_data"
    }
   ],
   "source": [
    "# установлю порого корреляции и выведу матрицу корреляции.\n",
    "fs.identify_collinear(correlation_threshold = 0.8)\n",
    "fs.plot_collinear(plot_all=True)"
   ]
  },
  {
   "cell_type": "code",
   "execution_count": 25,
   "metadata": {},
   "outputs": [
    {
     "data": {
      "text/html": [
       "<div>\n",
       "<style scoped>\n",
       "    .dataframe tbody tr th:only-of-type {\n",
       "        vertical-align: middle;\n",
       "    }\n",
       "\n",
       "    .dataframe tbody tr th {\n",
       "        vertical-align: top;\n",
       "    }\n",
       "\n",
       "    .dataframe thead th {\n",
       "        text-align: right;\n",
       "    }\n",
       "</style>\n",
       "<table border=\"1\" class=\"dataframe\">\n",
       "  <thead>\n",
       "    <tr style=\"text-align: right;\">\n",
       "      <th></th>\n",
       "      <th>drop_feature</th>\n",
       "      <th>corr_feature</th>\n",
       "      <th>corr_value</th>\n",
       "    </tr>\n",
       "  </thead>\n",
       "  <tbody>\n",
       "    <tr>\n",
       "      <th>0</th>\n",
       "      <td>ar_total_expenses</td>\n",
       "      <td>ar_revenue</td>\n",
       "      <td>0.988667</td>\n",
       "    </tr>\n",
       "    <tr>\n",
       "      <th>1</th>\n",
       "      <td>ar_sale_cost</td>\n",
       "      <td>ar_revenue</td>\n",
       "      <td>0.983769</td>\n",
       "    </tr>\n",
       "    <tr>\n",
       "      <th>2</th>\n",
       "      <td>ar_sale_cost</td>\n",
       "      <td>ar_total_expenses</td>\n",
       "      <td>0.993832</td>\n",
       "    </tr>\n",
       "    <tr>\n",
       "      <th>3</th>\n",
       "      <td>ar_profit_before_tax</td>\n",
       "      <td>ar_sale_profit</td>\n",
       "      <td>0.951916</td>\n",
       "    </tr>\n",
       "    <tr>\n",
       "      <th>4</th>\n",
       "      <td>ar_net_profit</td>\n",
       "      <td>ar_sale_profit</td>\n",
       "      <td>0.944014</td>\n",
       "    </tr>\n",
       "    <tr>\n",
       "      <th>5</th>\n",
       "      <td>ar_net_profit</td>\n",
       "      <td>ar_profit_before_tax</td>\n",
       "      <td>0.996629</td>\n",
       "    </tr>\n",
       "    <tr>\n",
       "      <th>6</th>\n",
       "      <td>ab_accounts_receivable</td>\n",
       "      <td>ab_mobile_current_assets</td>\n",
       "      <td>0.804130</td>\n",
       "    </tr>\n",
       "    <tr>\n",
       "      <th>7</th>\n",
       "      <td>ab_borrowed_capital</td>\n",
       "      <td>ab_mobile_current_assets</td>\n",
       "      <td>0.851014</td>\n",
       "    </tr>\n",
       "    <tr>\n",
       "      <th>8</th>\n",
       "      <td>ab_accounts_payable</td>\n",
       "      <td>ab_borrowed_capital</td>\n",
       "      <td>0.817119</td>\n",
       "    </tr>\n",
       "    <tr>\n",
       "      <th>9</th>\n",
       "      <td>ogrn_age</td>\n",
       "      <td>bus_age</td>\n",
       "      <td>0.857461</td>\n",
       "    </tr>\n",
       "    <tr>\n",
       "      <th>10</th>\n",
       "      <td>head_actual_age</td>\n",
       "      <td>adr_actual_age</td>\n",
       "      <td>1.000000</td>\n",
       "    </tr>\n",
       "    <tr>\n",
       "      <th>11</th>\n",
       "      <td>cap_actual_age</td>\n",
       "      <td>adr_actual_age</td>\n",
       "      <td>1.000000</td>\n",
       "    </tr>\n",
       "    <tr>\n",
       "      <th>12</th>\n",
       "      <td>cap_actual_age</td>\n",
       "      <td>head_actual_age</td>\n",
       "      <td>1.000000</td>\n",
       "    </tr>\n",
       "    <tr>\n",
       "      <th>13</th>\n",
       "      <td>bor/capital</td>\n",
       "      <td>profit/capital</td>\n",
       "      <td>0.883127</td>\n",
       "    </tr>\n",
       "    <tr>\n",
       "      <th>14</th>\n",
       "      <td>bor/inventory</td>\n",
       "      <td>ab_cash_and_securities</td>\n",
       "      <td>0.833478</td>\n",
       "    </tr>\n",
       "  </tbody>\n",
       "</table>\n",
       "</div>"
      ],
      "text/plain": [
       "              drop_feature              corr_feature  corr_value\n",
       "0        ar_total_expenses                ar_revenue    0.988667\n",
       "1             ar_sale_cost                ar_revenue    0.983769\n",
       "2             ar_sale_cost         ar_total_expenses    0.993832\n",
       "3     ar_profit_before_tax            ar_sale_profit    0.951916\n",
       "4            ar_net_profit            ar_sale_profit    0.944014\n",
       "5            ar_net_profit      ar_profit_before_tax    0.996629\n",
       "6   ab_accounts_receivable  ab_mobile_current_assets    0.804130\n",
       "7      ab_borrowed_capital  ab_mobile_current_assets    0.851014\n",
       "8      ab_accounts_payable       ab_borrowed_capital    0.817119\n",
       "9                 ogrn_age                   bus_age    0.857461\n",
       "10         head_actual_age            adr_actual_age    1.000000\n",
       "11          cap_actual_age            adr_actual_age    1.000000\n",
       "12          cap_actual_age           head_actual_age    1.000000\n",
       "13             bor/capital            profit/capital    0.883127\n",
       "14           bor/inventory    ab_cash_and_securities    0.833478"
      ]
     },
     "execution_count": 25,
     "metadata": {},
     "output_type": "execute_result"
    }
   ],
   "source": [
    "# Фичи для удаления\n",
    "fs.record_collinear"
   ]
  },
  {
   "cell_type": "code",
   "execution_count": 26,
   "metadata": {},
   "outputs": [
    {
     "data": {
      "text/plain": [
       "['ar_total_expenses',\n",
       " 'ar_sale_cost',\n",
       " 'ar_profit_before_tax',\n",
       " 'ar_net_profit',\n",
       " 'ab_accounts_receivable',\n",
       " 'ab_borrowed_capital',\n",
       " 'ab_accounts_payable',\n",
       " 'ogrn_age',\n",
       " 'head_actual_age',\n",
       " 'cap_actual_age',\n",
       " 'bor/capital',\n",
       " 'bor/inventory']"
      ]
     },
     "execution_count": 26,
     "metadata": {},
     "output_type": "execute_result"
    }
   ],
   "source": [
    "collinear_features = fs.ops['collinear']\n",
    "collinear_features"
   ]
  },
  {
   "cell_type": "code",
   "execution_count": 27,
   "metadata": {},
   "outputs": [],
   "source": [
    "# Удаляю коррелирующие признаки и два категориальных, которые обсуждал выше\n",
    "all_drop = collinear_features + ['ul_systematizing_flg', 'ul_strategic_flg']\n",
    "\n",
    "# Разбиваем выборку\n",
    "X_train, y_train = train_df_x.drop(all_drop, axis=1), \\\n",
    "                   train_df['default_12m']\n",
    "\n",
    "\n",
    "X_test = test_df_x.drop(all_drop, axis=1)"
   ]
  },
  {
   "cell_type": "markdown",
   "metadata": {},
   "source": [
    "#### Нормализация данных\n",
    "Так же для линейных моделей важно подать данные с нормальным распределением, для этого использую преобразование box-cox (для приближения распределений к нормальному виду) и standart scaler (для z-преобразования. Среднее = 0, диспрерсия=1)"
   ]
  },
  {
   "cell_type": "code",
   "execution_count": 28,
   "metadata": {},
   "outputs": [],
   "source": [
    "#box cox\n",
    "#добавим константу к данным чтобы получить положительные значения\n",
    "x_min = np.min(X_train) - 1\n",
    "X_train = X_train - x_min\n",
    "X_test = X_test - x_min\n",
    "\n",
    "#применим преобразование\n",
    "bc = PowerTransformer(method='box-cox')\n",
    "X_train = bc.fit_transform(X_train)\n",
    "X_test = bc.transform(X_test)"
   ]
  },
  {
   "cell_type": "code",
   "execution_count": 29,
   "metadata": {},
   "outputs": [],
   "source": [
    "sc = StandardScaler()\n",
    "X_train = sc.fit_transform(X_train)\n",
    "\n",
    "X_test = sc.transform(X_test)"
   ]
  },
  {
   "cell_type": "code",
   "execution_count": 30,
   "metadata": {},
   "outputs": [],
   "source": [
    "col = train_df_x.drop(all_drop, axis=1).columns\n",
    "X_train = pd.DataFrame(X_train, columns=col)\n",
    "\n",
    "X_test = pd.DataFrame(X_test, columns=col)"
   ]
  },
  {
   "cell_type": "code",
   "execution_count": 31,
   "metadata": {},
   "outputs": [
    {
     "data": {
      "image/png": "[encoded data removed]",
      "text/plain": [
       "<Figure size 1224x1224 with 30 Axes>"
      ]
     },
     "metadata": {
      "needs_background": "light"
     },
     "output_type": "display_data"
    }
   ],
   "source": [
    "# Посмотрим на новые распределения признаков. Видно что стало гораздо лучше\n",
    "X_train.hist(figsize=(17, 17));"
   ]
  },
  {
   "cell_type": "markdown",
   "metadata": {},
   "source": [
    "Добавлю еще один новый признак с помощью KNN.\n",
    "Для этого обучу KNN и добавлю новую колонку в данные - количество объектов первого класса среди ближайших 5 соседей"
   ]
  },
  {
   "cell_type": "code",
   "execution_count": 32,
   "metadata": {},
   "outputs": [
    {
     "data": {
      "text/plain": [
       "KNeighborsClassifier()"
      ]
     },
     "execution_count": 32,
     "metadata": {},
     "output_type": "execute_result"
    }
   ],
   "source": [
    "knn = KNeighborsClassifier()\n",
    "knn.fit(X_train, y_train)"
   ]
  },
  {
   "cell_type": "code",
   "execution_count": 33,
   "metadata": {},
   "outputs": [],
   "source": [
    "def train_kkn_feature_one(x):\n",
    "    # Получаю индексы ближайших 5 соседей (n_neighbors=6, так как\n",
    "    # на объектах обучающей выборки первым по близости соседом будет сам объект)\n",
    "    ind = knn.kneighbors(X=[x], n_neighbors=6, return_distance=False)\n",
    "    # считаю сумму таргетов соседей, что равно кол-ву объектов первого класаа\n",
    "    one_count = np.sum(train_df['default_12m'].values[ind[0][1:]])\n",
    "    return one_count\n",
    "\n",
    "def test_kkn_feature_one(x):\n",
    "    # все анлалогично первой функции, только n_neighbors=5, так как теперь\n",
    "    # сам объект не находился в обучающей выборке\n",
    "    ind = knn.kneighbors(X=[x], n_neighbors=5, return_distance=False)\n",
    "    one_count = np.sum(train_df['default_12m'].values[ind[0]])\n",
    "    return one_count\n",
    "\n",
    "\n",
    "X_train['ones_count'] = list(map(train_kkn_feature_one, X_train.values))\n",
    "\n",
    "X_test['ones_count'] = list(map(test_kkn_feature_one, X_test.values))\n"
   ]
  },
  {
   "cell_type": "code",
   "execution_count": 34,
   "metadata": {},
   "outputs": [],
   "source": [
    "# Нормализую новую фичу, для дальнейшей интерпретации коэффициентов логистической регрессии.\n",
    "X_train['ones_count'] = sc.fit_transform(X_train[['ones_count']])\n",
    "X_test['ones_count'] = sc.transform(X_test[['ones_count']])"
   ]
  },
  {
   "cell_type": "code",
   "execution_count": 35,
   "metadata": {},
   "outputs": [],
   "source": [
    "# Добавлю полиномиальных признаков 2й степени\n",
    "for col in X_train.columns[:-1]:\n",
    "    X_train[col+\"_2\"] = X_train[col]**2\n",
    "    X_test[col+\"_2\"] = X_test[col]**2"
   ]
  },
  {
   "cell_type": "code",
   "execution_count": 36,
   "metadata": {},
   "outputs": [
    {
     "data": {
      "text/html": [
       "<div>\n",
       "<style scoped>\n",
       "    .dataframe tbody tr th:only-of-type {\n",
       "        vertical-align: middle;\n",
       "    }\n",
       "\n",
       "    .dataframe tbody tr th {\n",
       "        vertical-align: top;\n",
       "    }\n",
       "\n",
       "    .dataframe thead th {\n",
       "        text-align: right;\n",
       "    }\n",
       "</style>\n",
       "<table border=\"1\" class=\"dataframe\">\n",
       "  <thead>\n",
       "    <tr style=\"text-align: right;\">\n",
       "      <th></th>\n",
       "      <th>ar_revenue</th>\n",
       "      <th>ar_selling_expenses</th>\n",
       "      <th>ar_management_expenses</th>\n",
       "      <th>ar_sale_profit</th>\n",
       "      <th>ar_balance_of_rvns_and_expns</th>\n",
       "      <th>ar_taxes</th>\n",
       "      <th>ar_other_profit_and_losses</th>\n",
       "      <th>ab_immobilized_assets</th>\n",
       "      <th>ab_mobile_current_assets</th>\n",
       "      <th>ab_inventory</th>\n",
       "      <th>...</th>\n",
       "      <th>ul_staff_range_2</th>\n",
       "      <th>ul_capital_sum_2</th>\n",
       "      <th>ul_founders_cnt_2</th>\n",
       "      <th>ul_branch_cnt_2</th>\n",
       "      <th>sale/revenue_2</th>\n",
       "      <th>profit/capital_2</th>\n",
       "      <th>inv/capital_2</th>\n",
       "      <th>profit/inventory_2</th>\n",
       "      <th>taxes/profit_2</th>\n",
       "      <th>los/profit_2</th>\n",
       "    </tr>\n",
       "  </thead>\n",
       "  <tbody>\n",
       "    <tr>\n",
       "      <th>0</th>\n",
       "      <td>-0.071968</td>\n",
       "      <td>-0.389075</td>\n",
       "      <td>-0.192146</td>\n",
       "      <td>0.025590</td>\n",
       "      <td>-0.455819</td>\n",
       "      <td>0.435231</td>\n",
       "      <td>-0.121320</td>\n",
       "      <td>-1.256516</td>\n",
       "      <td>-0.760919</td>\n",
       "      <td>-0.450808</td>\n",
       "      <td>...</td>\n",
       "      <td>0.106349</td>\n",
       "      <td>0.093869</td>\n",
       "      <td>0.717656</td>\n",
       "      <td>0.010103</td>\n",
       "      <td>0.000878</td>\n",
       "      <td>0.000037</td>\n",
       "      <td>0.000170</td>\n",
       "      <td>0.001936</td>\n",
       "      <td>0.000031</td>\n",
       "      <td>0.000002</td>\n",
       "    </tr>\n",
       "    <tr>\n",
       "      <th>1</th>\n",
       "      <td>0.333922</td>\n",
       "      <td>0.079378</td>\n",
       "      <td>0.005572</td>\n",
       "      <td>0.037893</td>\n",
       "      <td>-0.005683</td>\n",
       "      <td>0.018680</td>\n",
       "      <td>0.006182</td>\n",
       "      <td>1.016016</td>\n",
       "      <td>0.355052</td>\n",
       "      <td>0.390327</td>\n",
       "      <td>...</td>\n",
       "      <td>0.106349</td>\n",
       "      <td>0.118864</td>\n",
       "      <td>2.872591</td>\n",
       "      <td>0.010103</td>\n",
       "      <td>0.000878</td>\n",
       "      <td>0.000037</td>\n",
       "      <td>0.001207</td>\n",
       "      <td>0.001936</td>\n",
       "      <td>0.000031</td>\n",
       "      <td>0.000002</td>\n",
       "    </tr>\n",
       "    <tr>\n",
       "      <th>2</th>\n",
       "      <td>0.333922</td>\n",
       "      <td>0.079378</td>\n",
       "      <td>0.005572</td>\n",
       "      <td>0.037893</td>\n",
       "      <td>-0.005683</td>\n",
       "      <td>0.018680</td>\n",
       "      <td>0.006182</td>\n",
       "      <td>0.711499</td>\n",
       "      <td>0.355052</td>\n",
       "      <td>0.390327</td>\n",
       "      <td>...</td>\n",
       "      <td>0.106349</td>\n",
       "      <td>0.118864</td>\n",
       "      <td>0.717656</td>\n",
       "      <td>0.010103</td>\n",
       "      <td>0.000878</td>\n",
       "      <td>0.000037</td>\n",
       "      <td>0.000821</td>\n",
       "      <td>0.001936</td>\n",
       "      <td>0.000031</td>\n",
       "      <td>0.000002</td>\n",
       "    </tr>\n",
       "    <tr>\n",
       "      <th>3</th>\n",
       "      <td>-0.479923</td>\n",
       "      <td>-0.389075</td>\n",
       "      <td>-0.192146</td>\n",
       "      <td>-0.241277</td>\n",
       "      <td>0.082160</td>\n",
       "      <td>-0.096336</td>\n",
       "      <td>-0.121320</td>\n",
       "      <td>-1.256516</td>\n",
       "      <td>-1.062237</td>\n",
       "      <td>-0.565638</td>\n",
       "      <td>...</td>\n",
       "      <td>0.106349</td>\n",
       "      <td>1.110124</td>\n",
       "      <td>0.613831</td>\n",
       "      <td>0.010103</td>\n",
       "      <td>0.000878</td>\n",
       "      <td>0.000037</td>\n",
       "      <td>0.000705</td>\n",
       "      <td>0.001936</td>\n",
       "      <td>0.000031</td>\n",
       "      <td>0.000002</td>\n",
       "    </tr>\n",
       "    <tr>\n",
       "      <th>4</th>\n",
       "      <td>-0.928318</td>\n",
       "      <td>-0.389075</td>\n",
       "      <td>-0.192146</td>\n",
       "      <td>-0.360560</td>\n",
       "      <td>0.078943</td>\n",
       "      <td>0.135545</td>\n",
       "      <td>-0.121320</td>\n",
       "      <td>-1.256516</td>\n",
       "      <td>-0.626367</td>\n",
       "      <td>-0.100310</td>\n",
       "      <td>...</td>\n",
       "      <td>0.106349</td>\n",
       "      <td>0.118864</td>\n",
       "      <td>0.717656</td>\n",
       "      <td>0.010103</td>\n",
       "      <td>0.000878</td>\n",
       "      <td>0.000037</td>\n",
       "      <td>0.001196</td>\n",
       "      <td>0.001936</td>\n",
       "      <td>0.000031</td>\n",
       "      <td>0.000002</td>\n",
       "    </tr>\n",
       "  </tbody>\n",
       "</table>\n",
       "<p>5 rows × 59 columns</p>\n",
       "</div>"
      ],
      "text/plain": [
       "   ar_revenue  ar_selling_expenses  ar_management_expenses  ar_sale_profit  \\\n",
       "0   -0.071968            -0.389075               -0.192146        0.025590   \n",
       "1    0.333922             0.079378                0.005572        0.037893   \n",
       "2    0.333922             0.079378                0.005572        0.037893   \n",
       "3   -0.479923            -0.389075               -0.192146       -0.241277   \n",
       "4   -0.928318            -0.389075               -0.192146       -0.360560   \n",
       "\n",
       "   ar_balance_of_rvns_and_expns  ar_taxes  ar_other_profit_and_losses  \\\n",
       "0                     -0.455819  0.435231                   -0.121320   \n",
       "1                     -0.005683  0.018680                    0.006182   \n",
       "2                     -0.005683  0.018680                    0.006182   \n",
       "3                      0.082160 -0.096336                   -0.121320   \n",
       "4                      0.078943  0.135545                   -0.121320   \n",
       "\n",
       "   ab_immobilized_assets  ab_mobile_current_assets  ab_inventory  ...  \\\n",
       "0              -1.256516                 -0.760919     -0.450808  ...   \n",
       "1               1.016016                  0.355052      0.390327  ...   \n",
       "2               0.711499                  0.355052      0.390327  ...   \n",
       "3              -1.256516                 -1.062237     -0.565638  ...   \n",
       "4              -1.256516                 -0.626367     -0.100310  ...   \n",
       "\n",
       "   ul_staff_range_2  ul_capital_sum_2  ul_founders_cnt_2  ul_branch_cnt_2  \\\n",
       "0          0.106349          0.093869           0.717656         0.010103   \n",
       "1          0.106349          0.118864           2.872591         0.010103   \n",
       "2          0.106349          0.118864           0.717656         0.010103   \n",
       "3          0.106349          1.110124           0.613831         0.010103   \n",
       "4          0.106349          0.118864           0.717656         0.010103   \n",
       "\n",
       "   sale/revenue_2  profit/capital_2  inv/capital_2  profit/inventory_2  \\\n",
       "0        0.000878          0.000037       0.000170            0.001936   \n",
       "1        0.000878          0.000037       0.001207            0.001936   \n",
       "2        0.000878          0.000037       0.000821            0.001936   \n",
       "3        0.000878          0.000037       0.000705            0.001936   \n",
       "4        0.000878          0.000037       0.001196            0.001936   \n",
       "\n",
       "   taxes/profit_2  los/profit_2  \n",
       "0        0.000031      0.000002  \n",
       "1        0.000031      0.000002  \n",
       "2        0.000031      0.000002  \n",
       "3        0.000031      0.000002  \n",
       "4        0.000031      0.000002  \n",
       "\n",
       "[5 rows x 59 columns]"
      ]
     },
     "execution_count": 36,
     "metadata": {},
     "output_type": "execute_result"
    }
   ],
   "source": [
    "X_train.head()"
   ]
  },
  {
   "cell_type": "markdown",
   "metadata": {},
   "source": [
    "#### Обучение\n",
    "В соревновании оценка проводится с помощью accuracy, значит доля объектов каждого класса в тестовой выборке равны (это так же можно проверить залив константное предсказание и получив результат 0.5)\n",
    "Чтобы оценить модель в схожих условиях и подобрать порог бинаризации я написал функцию my_cv:\n",
    "1. Мы случайныс образом перемешиваем датасет\n",
    "2. 5 раз Выбираем подвыборку из 200 элементов для теста (100 - 1-го класса, 100 - 0-го класса)\n",
    "4. Обучаемся на остальных данных\n",
    "3. Перебираем порог бинаризации и считаем метрику, находим оптимальный порог на каждом разбиении."
   ]
  },
  {
   "cell_type": "code",
   "execution_count": 37,
   "metadata": {},
   "outputs": [],
   "source": [
    "def my_cv(train_df, model, th):\n",
    "    #Перемешиваем данные\n",
    "    train_df = train_df.sample(frac=1)\n",
    "    \n",
    "    best_th = []\n",
    "    best_score=[]\n",
    "    for i in range(5):\n",
    "        #Для валидацци выбираем по 100 объектов каждого класса\n",
    "        val_df =  pd.concat([train_df[train_df['default_12m'] == 1].iloc[i*100:i*100+100,:], \\\n",
    "                             train_df[train_df['default_12m'] == 0].iloc[i*100:i*100+100,:]]).sample(frac=1)\n",
    "        \n",
    "        #Для обучения все остальное\n",
    "        train_df =  pd.concat([train_df[train_df['default_12m'] == 1].iloc[i*100+100:,:], \\\n",
    "                               train_df[train_df['default_12m'] == 1].iloc[:i*100,:], \\\n",
    "                               train_df[train_df['default_12m'] == 0].iloc[i*100+100:,:], \\\n",
    "                               train_df[train_df['default_12m'] == 0].iloc[:i*100,:]]).sample(frac=1)\n",
    "        \n",
    "        X_train, y_train = train_df.drop('default_12m', axis=1), train_df['default_12m']\n",
    "        X_val, y_val = val_df.drop('default_12m', axis=1), val_df['default_12m']\n",
    "        \n",
    "        #обучаю модель\n",
    "        model.fit(X_train, y_train)\n",
    "        \n",
    "        #перебираю пороги и считаю метрику\n",
    "        accuracy = []\n",
    "        for cutoff in th:\n",
    "            preds = (model.predict_proba(X_val)[:,1]>cutoff).astype(int)\n",
    "            accuracy.append(accuracy_score(y_val, preds))\n",
    "        \n",
    "        #нахожу лиучший порог с максимальным результатом\n",
    "        best_th.append(th[np.argmax(accuracy)])\n",
    "        best_score.append(max(accuracy))\n",
    "        print(f'mean_acc = {np.mean(accuracy)}')\n",
    "        print(f'th: {th[np.argmax(accuracy)]}, score: {max(accuracy)}')\n",
    "    print()\n",
    "    #Усредненный порог разбиения по всем фолдам\n",
    "    print(f'mean_th: {np.mean(best_th)}')\n",
    "    #Срднее значение accuracy по всем фолдам\n",
    "    print(f'mean_score: {np.mean(best_score)}')"
   ]
  },
  {
   "cell_type": "code",
   "execution_count": 38,
   "metadata": {},
   "outputs": [],
   "source": [
    "#Функция для визуалтзации feature importance\n",
    "def plot_feature_importance(importance,names,model_type):\n",
    "    \n",
    "    #массивы feature importances и названий признаков\n",
    "    feature_importance = np.array(importance)[:]\n",
    "    feature_names = np.array(names)[:]\n",
    "    \n",
    "    #Создаю датафрейм\n",
    "    data={'feature_names':feature_names,'feature_importance':feature_importance}\n",
    "    fi_df = pd.DataFrame(data)\n",
    "    \n",
    "    #сортирую по значению feature_importance\n",
    "    fi_df.sort_values(by=['feature_importance'], ascending=False,inplace=True)\n",
    "    \n",
    "    plt.figure(figsize=(10,8))\n",
    "    #строю barplot первых 25 фичей по значимости\n",
    "    sns.barplot(x=fi_df['feature_importance'][:25], y=fi_df['feature_names'][:25])\n",
    "    plt.title(model_type + 'FEATURE IMPORTANCE')\n",
    "    plt.xlabel('FEATURE IMPORTANCE')\n",
    "    plt.ylabel('FEATURE NAMES')"
   ]
  },
  {
   "cell_type": "code",
   "execution_count": 39,
   "metadata": {},
   "outputs": [],
   "source": [
    "#собираю таргет и фичи вместе чтобы передать в my_cv()\n",
    "train = X_train.copy(deep=True)\n",
    "train['default_12m'] = y_train"
   ]
  },
  {
   "cell_type": "code",
   "execution_count": 40,
   "metadata": {},
   "outputs": [
    {
     "data": {
      "text/plain": [
       "0.7301484572840664"
      ]
     },
     "execution_count": 40,
     "metadata": {},
     "output_type": "execute_result"
    }
   ],
   "source": [
    "#логистическая регрессия выдает 0.73 на кросс валидации\n",
    "logit = LogisticRegression(max_iter=1000, n_jobs=-1)\n",
    "cv_baseline = cross_val_score(logit, X_train, y_train, cv=5, scoring='roc_auc').mean()\n",
    "cv_baseline"
   ]
  },
  {
   "cell_type": "code",
   "execution_count": 41,
   "metadata": {},
   "outputs": [
    {
     "name": "stdout",
     "output_type": "stream",
     "text": [
      "mean_acc = 0.522\n",
      "th: 0.08163265306122448, score: 0.67\n",
      "mean_acc = 0.5223\n",
      "th: 0.061224489795918366, score: 0.66\n",
      "mean_acc = 0.5165\n",
      "th: 0.061224489795918366, score: 0.645\n",
      "mean_acc = 0.5196999999999999\n",
      "th: 0.04081632653061224, score: 0.605\n",
      "mean_acc = 0.5245000000000001\n",
      "th: 0.04081632653061224, score: 0.75\n",
      "\n",
      "mean_th: 0.05714285714285714\n",
      "mean_score: 0.666\n"
     ]
    }
   ],
   "source": [
    "# Посмотрим на оптимальный порог разбиения и значение accuracy\n",
    "my_cv(train, logit, np.linspace(0,1,num=50))"
   ]
  },
  {
   "cell_type": "code",
   "execution_count": 42,
   "metadata": {},
   "outputs": [
    {
     "data": {
      "text/plain": [
       "LogisticRegression(max_iter=1000, n_jobs=-1)"
      ]
     },
     "execution_count": 42,
     "metadata": {},
     "output_type": "execute_result"
    }
   ],
   "source": [
    "# Обучу на всех данных и построю feature importance\n",
    "logit.fit(X_train, y_train)"
   ]
  },
  {
   "cell_type": "code",
   "execution_count": 43,
   "metadata": {},
   "outputs": [
    {
     "data": {
      "image/png": "[encoded data removed]",
      "text/plain": [
       "<Figure size 720x576 with 1 Axes>"
      ]
     },
     "metadata": {
      "needs_background": "light"
     },
     "output_type": "display_data"
    }
   ],
   "source": [
    "plot_feature_importance(np.abs(logit.coef_)[0],X_train.columns,'LOG-REG ')"
   ]
  },
  {
   "cell_type": "markdown",
   "metadata": {},
   "source": [
    "Видно, что новые признаки и признаки во 2й степени имеют высокую значимость для модели"
   ]
  },
  {
   "cell_type": "code",
   "execution_count": 44,
   "metadata": {},
   "outputs": [
    {
     "data": {
      "text/plain": [
       "0.6831954117317132"
      ]
     },
     "execution_count": 44,
     "metadata": {},
     "output_type": "execute_result"
    }
   ],
   "source": [
    "# Попробую случайный лес\n",
    "rf = RandomForestClassifier()\n",
    "cv_baseline = cross_val_score(rf, X_train, y_train, cv=5, scoring='roc_auc').mean()\n",
    "cv_baseline"
   ]
  },
  {
   "cell_type": "code",
   "execution_count": 45,
   "metadata": {},
   "outputs": [
    {
     "data": {
      "text/plain": [
       "RandomForestClassifier()"
      ]
     },
     "execution_count": 45,
     "metadata": {},
     "output_type": "execute_result"
    }
   ],
   "source": [
    "rf.fit(X_train, y_train)"
   ]
  },
  {
   "cell_type": "code",
   "execution_count": 46,
   "metadata": {},
   "outputs": [
    {
     "data": {
      "image/png": "[encoded data removed]",
      "text/plain": [
       "<Figure size 720x576 with 1 Axes>"
      ]
     },
     "metadata": {
      "needs_background": "light"
     },
     "output_type": "display_data"
    }
   ],
   "source": [
    "plot_feature_importance(rf.feature_importances_,X_train.columns,'RANDOM FOREST ')"
   ]
  },
  {
   "cell_type": "code",
   "execution_count": 47,
   "metadata": {},
   "outputs": [
    {
     "data": {
      "text/plain": [
       "0.7413652262692907"
      ]
     },
     "execution_count": 47,
     "metadata": {},
     "output_type": "execute_result"
    }
   ],
   "source": [
    "# Попробую градиентный бустинг\n",
    "cb = CatBoostClassifier(depth=4, n_estimators=200, verbose=False)\n",
    "cv_baseline = cross_val_score(cb, X_train, y_train, cv=5, scoring='roc_auc').mean()\n",
    "cv_baseline"
   ]
  },
  {
   "cell_type": "code",
   "execution_count": 48,
   "metadata": {},
   "outputs": [
    {
     "name": "stdout",
     "output_type": "stream",
     "text": [
      "mean_acc = 0.523\n",
      "th: 0.1020408163265306, score: 0.65\n",
      "mean_acc = 0.5423\n",
      "th: 0.04081632653061224, score: 0.685\n",
      "mean_acc = 0.5295000000000001\n",
      "th: 0.061224489795918366, score: 0.73\n",
      "mean_acc = 0.5211\n",
      "th: 0.04081632653061224, score: 0.63\n",
      "mean_acc = 0.5308999999999999\n",
      "th: 0.08163265306122448, score: 0.685\n",
      "\n",
      "mean_th: 0.06530612244897958\n",
      "mean_score: 0.6759999999999999\n"
     ]
    }
   ],
   "source": [
    "my_cv(train, cb, np.linspace(0,1,num=50))"
   ]
  },
  {
   "cell_type": "code",
   "execution_count": 49,
   "metadata": {},
   "outputs": [
    {
     "data": {
      "text/plain": [
       "<catboost.core.CatBoostClassifier at 0x175a75cb4f0>"
      ]
     },
     "execution_count": 49,
     "metadata": {},
     "output_type": "execute_result"
    }
   ],
   "source": [
    "cb.fit(X_train, y_train)"
   ]
  },
  {
   "cell_type": "code",
   "execution_count": 50,
   "metadata": {},
   "outputs": [
    {
     "data": {
      "image/png": "[encoded data removed]",
      "text/plain": [
       "<Figure size 720x576 with 1 Axes>"
      ]
     },
     "metadata": {
      "needs_background": "light"
     },
     "output_type": "display_data"
    }
   ],
   "source": [
    "plot_feature_importance(cb.get_feature_importance(),X_train.columns,'CATBOOST ')"
   ]
  },
  {
   "cell_type": "markdown",
   "metadata": {},
   "source": [
    "#### Подытог\n",
    "Самый лучший результат показал catboost, но логистическая регрессия не сильно отстает.\n",
    "Из задания: \"Цель - правильно разарботанная модель, удовлетворяющая требованиям банковской системы\".\n",
    "Насколько я понимаю, для банка важно использовать легко интерпретируемые модели, чтобы они не были черным ящиком.\n",
    "Соответственно модель должна быть не очень сложной, и логистическая регрессия для этого хорошо годится, да и ее результат не сильно отстает от бустинга.\n",
    "\n",
    "Далее я попробовал использовать подход с использованием градиентного бустинга для перехода в новое признаковое пространство. Данных подход лишает итоговую модель легкой интерпретации, но заметно повышает качество на метриках, поэтому я использовал его тоже."
   ]
  },
  {
   "cell_type": "markdown",
   "metadata": {},
   "source": [
    "#### Новое признаковое пространство\n",
    "Суть метода такова:\n",
    "1. Обучаем градиентный бустинг на обучающей выборке\n",
    "2. Затем прогоняем наши данные через обученный алгоритм и получаем индекс листа, в который попал наш объект\n",
    "3. В итоге для каждого объекта получаем вектор из 200 (в данном случае, а вообще его длина равна количеству деревьев в алгоритме) индексов листов.\n",
    "4. Делаем вектор one_hot кодирование, с итоговой длинной равной 200*(2^4), 2^4-количество листьев в дереве, 4-глубина дерева\n",
    "5. Обучаем на one_hot векторе логистическую регрессию"
   ]
  },
  {
   "cell_type": "code",
   "execution_count": 51,
   "metadata": {},
   "outputs": [],
   "source": [
    "# Получаю индексы для каждого объекта\n",
    "train_pred = cb.calc_leaf_indexes(X_train)\n",
    "test_pred = cb.calc_leaf_indexes(X_test)"
   ]
  },
  {
   "cell_type": "code",
   "execution_count": 52,
   "metadata": {},
   "outputs": [
    {
     "data": {
      "text/plain": [
       "(15, 0)"
      ]
     },
     "execution_count": 52,
     "metadata": {},
     "output_type": "execute_result"
    }
   ],
   "source": [
    "# Так как глубина дерева 4, то кол-во листьев = 2**4, убедимся что индексы принимают значения из диапозона [0,2**4)\n",
    "max(list(map(lambda x: max(x), train_pred))), min(list(map(lambda x: min(x), train_pred)))"
   ]
  },
  {
   "cell_type": "code",
   "execution_count": 53,
   "metadata": {},
   "outputs": [],
   "source": [
    "#Перевожу индексы листьев из пространства [0...L) (индексы уникальны в рамках дерева) \n",
    "#в формат [0...N*L) (индексы уникальны в рамках всего ансамбля). \n",
    "\n",
    "test_pred_new = list(map(lambda x: x + np.arange(0, len(x))*(2**4), test_pred))\n",
    "train_pred_new = list(map(lambda x: x + np.arange(0, len(x))*(2**4), train_pred))"
   ]
  },
  {
   "cell_type": "code",
   "execution_count": 54,
   "metadata": {},
   "outputs": [
    {
     "name": "stdout",
     "output_type": "stream",
     "text": [
      "local idx: [ 4  8  9 11 10  0 12 12  0  9]\n",
      "global idx: [  4  24  41  59  74  80 108 124 128 153]\n"
     ]
    }
   ],
   "source": [
    "# Теперь каждый индекс глобальный, т.е по ним можно делать one_hot кодирование\n",
    "print(f'local idx: {test_pred[0][:10]}')\n",
    "print(f'global idx: {test_pred_new[0][:10]}')"
   ]
  },
  {
   "cell_type": "code",
   "execution_count": 55,
   "metadata": {},
   "outputs": [
    {
     "data": {
      "text/plain": [
       "((32395, 200), (200, 200))"
      ]
     },
     "execution_count": 55,
     "metadata": {},
     "output_type": "execute_result"
    }
   ],
   "source": [
    "# 200 деревьев - 200 признаков\n",
    "np.array(train_pred_new).shape, np.array(test_pred_new).shape"
   ]
  },
  {
   "cell_type": "code",
   "execution_count": 56,
   "metadata": {},
   "outputs": [],
   "source": [
    "test_pred_onehot = np.zeros((200, 200*(2**4)))\n",
    "train_pred_onehot = np.zeros((32395, 200*(2**4)))"
   ]
  },
  {
   "cell_type": "code",
   "execution_count": 57,
   "metadata": {},
   "outputs": [],
   "source": [
    "# one_hot кодирование\n",
    "for i in range(200):\n",
    "    test_pred_onehot[i][test_pred_new[i].astype(int)] = 1\n",
    "\n",
    "for i in range(32395):\n",
    "    train_pred_onehot[i][train_pred_new[i].astype(int)] = 1"
   ]
  },
  {
   "cell_type": "code",
   "execution_count": 58,
   "metadata": {},
   "outputs": [
    {
     "data": {
      "text/plain": [
       "((32395, 3200), (200, 3200))"
      ]
     },
     "execution_count": 58,
     "metadata": {},
     "output_type": "execute_result"
    }
   ],
   "source": [
    "# получили 200*16 фичей\n",
    "train_pred_onehot.shape, test_pred_onehot.shape"
   ]
  },
  {
   "cell_type": "code",
   "execution_count": 59,
   "metadata": {},
   "outputs": [
    {
     "data": {
      "text/plain": [
       "0.778558253363048"
      ]
     },
     "execution_count": 59,
     "metadata": {},
     "output_type": "execute_result"
    }
   ],
   "source": [
    "#Обучим логистическую регрессию\n",
    "lr = LogisticRegression(max_iter=1000, penalty='l1', solver='liblinear')\n",
    "cv_baseline = cross_val_score(lr, train_pred_onehot, y_train, cv=5, scoring='roc_auc').mean()\n",
    "cv_baseline"
   ]
  },
  {
   "cell_type": "code",
   "execution_count": 60,
   "metadata": {},
   "outputs": [],
   "source": [
    "train = pd.DataFrame(train_pred_onehot)\n",
    "train['default_12m'] = y_train"
   ]
  },
  {
   "cell_type": "code",
   "execution_count": 61,
   "metadata": {},
   "outputs": [
    {
     "name": "stdout",
     "output_type": "stream",
     "text": [
      "mean_acc = 0.5606\n",
      "th: 0.08163265306122448, score: 0.74\n",
      "mean_acc = 0.5657\n",
      "th: 0.08163265306122448, score: 0.735\n",
      "mean_acc = 0.5668000000000001\n",
      "th: 0.061224489795918366, score: 0.785\n",
      "mean_acc = 0.5496000000000001\n",
      "th: 0.04081632653061224, score: 0.74\n",
      "mean_acc = 0.5529\n",
      "th: 0.08163265306122448, score: 0.715\n",
      "\n",
      "mean_th: 0.0693877551020408\n",
      "mean_score: 0.743\n"
     ]
    }
   ],
   "source": [
    "my_cv(train, lr, np.linspace(0,1,num=50))"
   ]
  },
  {
   "cell_type": "code",
   "execution_count": 62,
   "metadata": {},
   "outputs": [
    {
     "data": {
      "text/plain": [
       "LogisticRegression(max_iter=1000, penalty='l1', solver='liblinear')"
      ]
     },
     "execution_count": 62,
     "metadata": {},
     "output_type": "execute_result"
    }
   ],
   "source": [
    "lr.fit(train_pred_onehot, y_train)"
   ]
  },
  {
   "cell_type": "markdown",
   "metadata": {},
   "source": [
    "### submit"
   ]
  },
  {
   "cell_type": "code",
   "execution_count": 63,
   "metadata": {},
   "outputs": [],
   "source": [
    "test_df = pd.read_csv('PD-data-test.csv', sep=';')\n",
    "answ_df = test_df[['record_id']]\n",
    "answ_df['id'] = answ_df['record_id']\n",
    "answ_df.drop('record_id',axis=1, inplace=True)"
   ]
  },
  {
   "cell_type": "code",
   "execution_count": 75,
   "metadata": {},
   "outputs": [],
   "source": [
    "answ_df['predict'] = (lr.predict_proba(test_pred_onehot)[:,1]>0.0612).astype(int)"
   ]
  },
  {
   "cell_type": "code",
   "execution_count": 74,
   "metadata": {},
   "outputs": [],
   "source": [
    "answ_df.to_csv('PD-submit.csv',index=False, sep=';')"
   ]
  },
  {
   "cell_type": "code",
   "execution_count": 76,
   "metadata": {},
   "outputs": [
    {
     "data": {
      "text/plain": [
       "0    118\n",
       "1     82\n",
       "Name: predict, dtype: int64"
      ]
     },
     "execution_count": 76,
     "metadata": {},
     "output_type": "execute_result"
    }
   ],
   "source": [
    "answ_df['predict'].value_counts()"
   ]
  },
  {
   "cell_type": "markdown",
   "metadata": {
    "id": "G7OdXngvN92r"
   },
   "source": [
    "Для загрузки своего рузультата на https://dsbattle.com/hackathons/juniords-new/ вам нужно создать csv файл с двумя колонками (id, predict), разделитель - точка с запятой (;)"
   ]
  },
  {
   "attachments": {
    "image.png": {
     "image/png": "[encoded data removed]"
    }
   },
   "cell_type": "markdown",
   "metadata": {},
   "source": [
    "### Результат\n",
    "Данная  модель позволила добиться accuracy 0.655 на тестовом датасете\n",
    "![image.png](attachment:image.png)"
   ]
  }
 ],
 "metadata": {
  "colab": {
   "collapsed_sections": [],
   "name": "PD_jun_ds",
   "provenance": [],
   "toc_visible": true
  },
  "kernelspec": {
   "display_name": "Python 3 (ipykernel)",
   "language": "python",
   "name": "python3"
  },
  "language_info": {
   "codemirror_mode": {
    "name": "ipython",
    "version": 3
   },
   "file_extension": ".py",
   "mimetype": "text/x-python",
   "name": "python",
   "nbconvert_exporter": "python",
   "pygments_lexer": "ipython3",
   "version": "3.8.5"
  }
 },
 "nbformat": 4,
 "nbformat_minor": 1
}
